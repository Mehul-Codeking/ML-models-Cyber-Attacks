{
  "cells": [
    {
      "cell_type": "code",
      "execution_count": 1,
      "metadata": {
        "colab": {
          "base_uri": "https://localhost:8080/",
          "height": 461
        },
        "id": "TI3jovWAw4yn",
        "outputId": "1c1ae49f-278b-4532-df98-8f059596fcec"
      },
      "outputs": [
        {
          "data": {
            "text/html": [
              "<div>\n",
              "<style scoped>\n",
              "    .dataframe tbody tr th:only-of-type {\n",
              "        vertical-align: middle;\n",
              "    }\n",
              "\n",
              "    .dataframe tbody tr th {\n",
              "        vertical-align: top;\n",
              "    }\n",
              "\n",
              "    .dataframe thead th {\n",
              "        text-align: right;\n",
              "    }\n",
              "</style>\n",
              "<table border=\"1\" class=\"dataframe\">\n",
              "  <thead>\n",
              "    <tr style=\"text-align: right;\">\n",
              "      <th></th>\n",
              "      <th>arp.opcode</th>\n",
              "      <th>arp.hw.size</th>\n",
              "      <th>icmp.checksum</th>\n",
              "      <th>icmp.seq_le</th>\n",
              "      <th>icmp.unused</th>\n",
              "      <th>http.content_length</th>\n",
              "      <th>http.response</th>\n",
              "      <th>http.tls_port</th>\n",
              "      <th>tcp.ack</th>\n",
              "      <th>tcp.ack_raw</th>\n",
              "      <th>...</th>\n",
              "      <th>dns.qry.name.len-1.debian.pool.ntp.org</th>\n",
              "      <th>dns.qry.name.len-2.debian.pool.ntp.org</th>\n",
              "      <th>dns.qry.name.len-3.debian.pool.ntp.org</th>\n",
              "      <th>dns.qry.name.len-_googlecast._tcp.local</th>\n",
              "      <th>mqtt.conack.flags-0</th>\n",
              "      <th>mqtt.conack.flags-0x00000000</th>\n",
              "      <th>mqtt.protoname-0</th>\n",
              "      <th>mqtt.protoname-MQTT</th>\n",
              "      <th>mqtt.topic-0</th>\n",
              "      <th>mqtt.topic-Temperature_and_Humidity</th>\n",
              "    </tr>\n",
              "  </thead>\n",
              "  <tbody>\n",
              "    <tr>\n",
              "      <th>0</th>\n",
              "      <td>0</td>\n",
              "      <td>0</td>\n",
              "      <td>0</td>\n",
              "      <td>0</td>\n",
              "      <td>0</td>\n",
              "      <td>0</td>\n",
              "      <td>0</td>\n",
              "      <td>0</td>\n",
              "      <td>110218025</td>\n",
              "      <td>1249069932</td>\n",
              "      <td>...</td>\n",
              "      <td>False</td>\n",
              "      <td>False</td>\n",
              "      <td>False</td>\n",
              "      <td>False</td>\n",
              "      <td>True</td>\n",
              "      <td>False</td>\n",
              "      <td>True</td>\n",
              "      <td>False</td>\n",
              "      <td>True</td>\n",
              "      <td>False</td>\n",
              "    </tr>\n",
              "    <tr>\n",
              "      <th>1</th>\n",
              "      <td>0</td>\n",
              "      <td>0</td>\n",
              "      <td>0</td>\n",
              "      <td>0</td>\n",
              "      <td>0</td>\n",
              "      <td>0</td>\n",
              "      <td>0</td>\n",
              "      <td>0</td>\n",
              "      <td>1</td>\n",
              "      <td>3306662301</td>\n",
              "      <td>...</td>\n",
              "      <td>False</td>\n",
              "      <td>False</td>\n",
              "      <td>False</td>\n",
              "      <td>False</td>\n",
              "      <td>True</td>\n",
              "      <td>False</td>\n",
              "      <td>True</td>\n",
              "      <td>False</td>\n",
              "      <td>True</td>\n",
              "      <td>False</td>\n",
              "    </tr>\n",
              "    <tr>\n",
              "      <th>2</th>\n",
              "      <td>0</td>\n",
              "      <td>0</td>\n",
              "      <td>0</td>\n",
              "      <td>0</td>\n",
              "      <td>0</td>\n",
              "      <td>0</td>\n",
              "      <td>0</td>\n",
              "      <td>0</td>\n",
              "      <td>0</td>\n",
              "      <td>0</td>\n",
              "      <td>...</td>\n",
              "      <td>False</td>\n",
              "      <td>False</td>\n",
              "      <td>False</td>\n",
              "      <td>False</td>\n",
              "      <td>True</td>\n",
              "      <td>False</td>\n",
              "      <td>True</td>\n",
              "      <td>False</td>\n",
              "      <td>True</td>\n",
              "      <td>False</td>\n",
              "    </tr>\n",
              "    <tr>\n",
              "      <th>3</th>\n",
              "      <td>0</td>\n",
              "      <td>0</td>\n",
              "      <td>0</td>\n",
              "      <td>0</td>\n",
              "      <td>0</td>\n",
              "      <td>0</td>\n",
              "      <td>0</td>\n",
              "      <td>0</td>\n",
              "      <td>930</td>\n",
              "      <td>142931531</td>\n",
              "      <td>...</td>\n",
              "      <td>False</td>\n",
              "      <td>False</td>\n",
              "      <td>False</td>\n",
              "      <td>False</td>\n",
              "      <td>True</td>\n",
              "      <td>False</td>\n",
              "      <td>True</td>\n",
              "      <td>False</td>\n",
              "      <td>True</td>\n",
              "      <td>False</td>\n",
              "    </tr>\n",
              "    <tr>\n",
              "      <th>4</th>\n",
              "      <td>0</td>\n",
              "      <td>0</td>\n",
              "      <td>0</td>\n",
              "      <td>0</td>\n",
              "      <td>0</td>\n",
              "      <td>0</td>\n",
              "      <td>0</td>\n",
              "      <td>0</td>\n",
              "      <td>442</td>\n",
              "      <td>984983596</td>\n",
              "      <td>...</td>\n",
              "      <td>False</td>\n",
              "      <td>False</td>\n",
              "      <td>False</td>\n",
              "      <td>False</td>\n",
              "      <td>True</td>\n",
              "      <td>False</td>\n",
              "      <td>True</td>\n",
              "      <td>False</td>\n",
              "      <td>True</td>\n",
              "      <td>False</td>\n",
              "    </tr>\n",
              "    <tr>\n",
              "      <th>...</th>\n",
              "      <td>...</td>\n",
              "      <td>...</td>\n",
              "      <td>...</td>\n",
              "      <td>...</td>\n",
              "      <td>...</td>\n",
              "      <td>...</td>\n",
              "      <td>...</td>\n",
              "      <td>...</td>\n",
              "      <td>...</td>\n",
              "      <td>...</td>\n",
              "      <td>...</td>\n",
              "      <td>...</td>\n",
              "      <td>...</td>\n",
              "      <td>...</td>\n",
              "      <td>...</td>\n",
              "      <td>...</td>\n",
              "      <td>...</td>\n",
              "      <td>...</td>\n",
              "      <td>...</td>\n",
              "      <td>...</td>\n",
              "      <td>...</td>\n",
              "    </tr>\n",
              "    <tr>\n",
              "      <th>152191</th>\n",
              "      <td>0</td>\n",
              "      <td>0</td>\n",
              "      <td>0</td>\n",
              "      <td>0</td>\n",
              "      <td>0</td>\n",
              "      <td>0</td>\n",
              "      <td>0</td>\n",
              "      <td>0</td>\n",
              "      <td>1</td>\n",
              "      <td>2013966124</td>\n",
              "      <td>...</td>\n",
              "      <td>False</td>\n",
              "      <td>False</td>\n",
              "      <td>False</td>\n",
              "      <td>False</td>\n",
              "      <td>True</td>\n",
              "      <td>False</td>\n",
              "      <td>True</td>\n",
              "      <td>False</td>\n",
              "      <td>True</td>\n",
              "      <td>False</td>\n",
              "    </tr>\n",
              "    <tr>\n",
              "      <th>152192</th>\n",
              "      <td>0</td>\n",
              "      <td>0</td>\n",
              "      <td>0</td>\n",
              "      <td>0</td>\n",
              "      <td>0</td>\n",
              "      <td>0</td>\n",
              "      <td>0</td>\n",
              "      <td>0</td>\n",
              "      <td>0</td>\n",
              "      <td>0</td>\n",
              "      <td>...</td>\n",
              "      <td>False</td>\n",
              "      <td>False</td>\n",
              "      <td>False</td>\n",
              "      <td>False</td>\n",
              "      <td>True</td>\n",
              "      <td>False</td>\n",
              "      <td>True</td>\n",
              "      <td>False</td>\n",
              "      <td>True</td>\n",
              "      <td>False</td>\n",
              "    </tr>\n",
              "    <tr>\n",
              "      <th>152193</th>\n",
              "      <td>0</td>\n",
              "      <td>0</td>\n",
              "      <td>0</td>\n",
              "      <td>0</td>\n",
              "      <td>0</td>\n",
              "      <td>0</td>\n",
              "      <td>0</td>\n",
              "      <td>0</td>\n",
              "      <td>103</td>\n",
              "      <td>1752254882</td>\n",
              "      <td>...</td>\n",
              "      <td>False</td>\n",
              "      <td>False</td>\n",
              "      <td>False</td>\n",
              "      <td>False</td>\n",
              "      <td>True</td>\n",
              "      <td>False</td>\n",
              "      <td>True</td>\n",
              "      <td>False</td>\n",
              "      <td>True</td>\n",
              "      <td>False</td>\n",
              "    </tr>\n",
              "    <tr>\n",
              "      <th>152194</th>\n",
              "      <td>0</td>\n",
              "      <td>0</td>\n",
              "      <td>0</td>\n",
              "      <td>0</td>\n",
              "      <td>0</td>\n",
              "      <td>0</td>\n",
              "      <td>0</td>\n",
              "      <td>0</td>\n",
              "      <td>719652</td>\n",
              "      <td>2372344333</td>\n",
              "      <td>...</td>\n",
              "      <td>False</td>\n",
              "      <td>False</td>\n",
              "      <td>False</td>\n",
              "      <td>False</td>\n",
              "      <td>True</td>\n",
              "      <td>False</td>\n",
              "      <td>True</td>\n",
              "      <td>False</td>\n",
              "      <td>True</td>\n",
              "      <td>False</td>\n",
              "    </tr>\n",
              "    <tr>\n",
              "      <th>152195</th>\n",
              "      <td>0</td>\n",
              "      <td>0</td>\n",
              "      <td>0</td>\n",
              "      <td>0</td>\n",
              "      <td>0</td>\n",
              "      <td>0</td>\n",
              "      <td>0</td>\n",
              "      <td>0</td>\n",
              "      <td>0</td>\n",
              "      <td>0</td>\n",
              "      <td>...</td>\n",
              "      <td>False</td>\n",
              "      <td>False</td>\n",
              "      <td>False</td>\n",
              "      <td>False</td>\n",
              "      <td>True</td>\n",
              "      <td>False</td>\n",
              "      <td>True</td>\n",
              "      <td>False</td>\n",
              "      <td>True</td>\n",
              "      <td>False</td>\n",
              "    </tr>\n",
              "  </tbody>\n",
              "</table>\n",
              "<p>152196 rows × 69 columns</p>\n",
              "</div>"
            ],
            "text/plain": [
              "        arp.opcode  arp.hw.size  icmp.checksum  icmp.seq_le  icmp.unused  \\\n",
              "0                0            0              0            0            0   \n",
              "1                0            0              0            0            0   \n",
              "2                0            0              0            0            0   \n",
              "3                0            0              0            0            0   \n",
              "4                0            0              0            0            0   \n",
              "...            ...          ...            ...          ...          ...   \n",
              "152191           0            0              0            0            0   \n",
              "152192           0            0              0            0            0   \n",
              "152193           0            0              0            0            0   \n",
              "152194           0            0              0            0            0   \n",
              "152195           0            0              0            0            0   \n",
              "\n",
              "        http.content_length  http.response  http.tls_port    tcp.ack  \\\n",
              "0                         0              0              0  110218025   \n",
              "1                         0              0              0          1   \n",
              "2                         0              0              0          0   \n",
              "3                         0              0              0        930   \n",
              "4                         0              0              0        442   \n",
              "...                     ...            ...            ...        ...   \n",
              "152191                    0              0              0          1   \n",
              "152192                    0              0              0          0   \n",
              "152193                    0              0              0        103   \n",
              "152194                    0              0              0     719652   \n",
              "152195                    0              0              0          0   \n",
              "\n",
              "        tcp.ack_raw  ...  dns.qry.name.len-1.debian.pool.ntp.org  \\\n",
              "0        1249069932  ...                                   False   \n",
              "1        3306662301  ...                                   False   \n",
              "2                 0  ...                                   False   \n",
              "3         142931531  ...                                   False   \n",
              "4         984983596  ...                                   False   \n",
              "...             ...  ...                                     ...   \n",
              "152191   2013966124  ...                                   False   \n",
              "152192            0  ...                                   False   \n",
              "152193   1752254882  ...                                   False   \n",
              "152194   2372344333  ...                                   False   \n",
              "152195            0  ...                                   False   \n",
              "\n",
              "        dns.qry.name.len-2.debian.pool.ntp.org  \\\n",
              "0                                        False   \n",
              "1                                        False   \n",
              "2                                        False   \n",
              "3                                        False   \n",
              "4                                        False   \n",
              "...                                        ...   \n",
              "152191                                   False   \n",
              "152192                                   False   \n",
              "152193                                   False   \n",
              "152194                                   False   \n",
              "152195                                   False   \n",
              "\n",
              "        dns.qry.name.len-3.debian.pool.ntp.org  \\\n",
              "0                                        False   \n",
              "1                                        False   \n",
              "2                                        False   \n",
              "3                                        False   \n",
              "4                                        False   \n",
              "...                                        ...   \n",
              "152191                                   False   \n",
              "152192                                   False   \n",
              "152193                                   False   \n",
              "152194                                   False   \n",
              "152195                                   False   \n",
              "\n",
              "        dns.qry.name.len-_googlecast._tcp.local  mqtt.conack.flags-0  \\\n",
              "0                                         False                 True   \n",
              "1                                         False                 True   \n",
              "2                                         False                 True   \n",
              "3                                         False                 True   \n",
              "4                                         False                 True   \n",
              "...                                         ...                  ...   \n",
              "152191                                    False                 True   \n",
              "152192                                    False                 True   \n",
              "152193                                    False                 True   \n",
              "152194                                    False                 True   \n",
              "152195                                    False                 True   \n",
              "\n",
              "        mqtt.conack.flags-0x00000000  mqtt.protoname-0  mqtt.protoname-MQTT  \\\n",
              "0                              False              True                False   \n",
              "1                              False              True                False   \n",
              "2                              False              True                False   \n",
              "3                              False              True                False   \n",
              "4                              False              True                False   \n",
              "...                              ...               ...                  ...   \n",
              "152191                         False              True                False   \n",
              "152192                         False              True                False   \n",
              "152193                         False              True                False   \n",
              "152194                         False              True                False   \n",
              "152195                         False              True                False   \n",
              "\n",
              "        mqtt.topic-0  mqtt.topic-Temperature_and_Humidity  \n",
              "0               True                                False  \n",
              "1               True                                False  \n",
              "2               True                                False  \n",
              "3               True                                False  \n",
              "4               True                                False  \n",
              "...              ...                                  ...  \n",
              "152191          True                                False  \n",
              "152192          True                                False  \n",
              "152193          True                                False  \n",
              "152194          True                                False  \n",
              "152195          True                                False  \n",
              "\n",
              "[152196 rows x 69 columns]"
            ]
          },
          "execution_count": 1,
          "metadata": {},
          "output_type": "execute_result"
        }
      ],
      "source": [
        "import pandas as pd\n",
        "import numpy as np\n",
        "from matplotlib import pyplot as plt\n",
        "import seaborn as sns\n",
        "df = pd.read_csv('preprocessed_DNN (5).csv', low_memory=False)\n",
        "df"
      ]
    },
    {
      "cell_type": "code",
      "execution_count": 2,
      "metadata": {
        "colab": {
          "base_uri": "https://localhost:8080/",
          "height": 585
        },
        "id": "HxF0GieLxDFe",
        "outputId": "ca654483-c6ac-405b-fe5b-9a7b4380e057"
      },
      "outputs": [
        {
          "data": {
            "text/plain": [
              "Attack_type\n",
              "Normal                   24101\n",
              "DDoS_UDP                 14498\n",
              "DDoS_ICMP                13096\n",
              "DDoS_HTTP                10495\n",
              "SQL_injection            10282\n",
              "DDoS_TCP                 10247\n",
              "Uploading                10214\n",
              "Vulnerability_scanner    10062\n",
              "Password                  9972\n",
              "Backdoor                  9865\n",
              "Ransomware                9689\n",
              "XSS                       9543\n",
              "Port_Scanning             8921\n",
              "Fingerprinting             853\n",
              "MITM                       358\n",
              "Name: count, dtype: int64"
            ]
          },
          "execution_count": 2,
          "metadata": {},
          "output_type": "execute_result"
        }
      ],
      "source": [
        "df['Attack_type'].value_counts()"
      ]
    },
    {
      "cell_type": "code",
      "execution_count": 3,
      "metadata": {
        "id": "18mcd2cmxFM-"
      },
      "outputs": [],
      "source": [
        "feat_cols = list(df.columns)\n",
        "label_col = \"Attack_type\"\n",
        "\n",
        "feat_cols.remove(label_col)"
      ]
    },
    {
      "cell_type": "code",
      "execution_count": 4,
      "metadata": {
        "colab": {
          "base_uri": "https://localhost:8080/"
        },
        "id": "DJCHwbvdxO56",
        "outputId": "f293d883-8277-4aa4-ea56-cd53f823b47d"
      },
      "outputs": [
        {
          "data": {
            "text/plain": [
              "[]"
            ]
          },
          "execution_count": 4,
          "metadata": {},
          "output_type": "execute_result"
        }
      ],
      "source": [
        "empty_cols = [col for col in df.columns if df[col].isnull().all()]\n",
        "empty_cols"
      ]
    },
    {
      "cell_type": "code",
      "execution_count": 5,
      "metadata": {
        "id": "wuwVE0tRxSif"
      },
      "outputs": [],
      "source": [
        "skip_list = [\"icmp.unused\", \"http.tls_port\", \"dns.qry.type\", \"mqtt.msg_decoded_as\"]"
      ]
    },
    {
      "cell_type": "code",
      "execution_count": 6,
      "metadata": {
        "colab": {
          "base_uri": "https://localhost:8080/",
          "height": 146
        },
        "id": "xkd3q6MzxbvX",
        "outputId": "5c89cc11-1b30-4dab-8a45-c55bc9d1164e"
      },
      "outputs": [
        {
          "data": {
            "text/plain": [
              "mqtt.msg_decoded_as\n",
              "0    152196\n",
              "Name: count, dtype: int64"
            ]
          },
          "execution_count": 6,
          "metadata": {},
          "output_type": "execute_result"
        }
      ],
      "source": [
        "df[skip_list[3]].value_counts()"
      ]
    },
    {
      "cell_type": "code",
      "execution_count": 7,
      "metadata": {
        "colab": {
          "base_uri": "https://localhost:8080/",
          "height": 581
        },
        "id": "LPGRiUvUxeIs",
        "outputId": "1ab6f06a-6e40-49f0-f861-9db62ff85116"
      },
      "outputs": [
        {
          "data": {
            "image/png": "[encoded data removed]",
            "text/plain": [
              "<Figure size 1200x800 with 2 Axes>"
            ]
          },
          "metadata": {},
          "output_type": "display_data"
        }
      ],
      "source": [
        "fig, (ax1, ax2)  = plt.subplots(nrows=1, ncols=2, figsize=(12,8))\n",
        "explode = list((np.array(list(df[label_col].dropna().value_counts()))/sum(list(df[label_col].dropna().value_counts())))[::-1])[:]\n",
        "labels = list(df[label_col].dropna().unique())[:]\n",
        "sizes = df[label_col].value_counts()[:]\n",
        "\n",
        "ax2.pie(sizes,  explode=explode, startangle=60, labels=labels, autopct='%1.0f%%', pctdistance=0.8)\n",
        "ax2.add_artist(plt.Circle((0,0),0.4,fc='white'))\n",
        "sns.countplot(y=label_col, data=df, ax=ax1)\n",
        "ax1.set_title(\"Count of each Attack type\")\n",
        "ax2.set_title(\"Percentage of each Attack type\")\n",
        "plt.show()"
      ]
    },
    {
      "cell_type": "code",
      "execution_count": 8,
      "metadata": {
        "id": "sbkpDUVex0cO"
      },
      "outputs": [],
      "source": [
        "X = df.drop([label_col], axis=1)\n",
        "y = df[label_col]\n",
        "\n",
        "# Drop rows with NaN values in the target variable 'y'\n",
        "nan_rows = y.isnull()\n",
        "X = X[~nan_rows]\n",
        "y = y[~nan_rows]"
      ]
    },
    {
      "cell_type": "code",
      "execution_count": 9,
      "metadata": {
        "id": "h6dSY46Rx3Qf"
      },
      "outputs": [],
      "source": [
        "from sklearn.model_selection import train_test_split\n",
        "\n",
        "X_train, X_test, y_train, y_test = train_test_split(X, y, test_size=0.2, random_state=1, stratify=y)\n"
      ]
    },
    {
      "cell_type": "code",
      "execution_count": 10,
      "metadata": {
        "colab": {
          "base_uri": "https://localhost:8080/"
        },
        "id": "gju2c4rS6Z7c",
        "outputId": "2fceb73a-6646-43da-82f7-fad4ee86311e"
      },
      "outputs": [
        {
          "name": "stdout",
          "output_type": "stream",
          "text": [
            "(121756, 68) (30440, 68) (121756,) (30440,)\n"
          ]
        }
      ],
      "source": [
        "X_train,X_test,y_train,y_test = train_test_split(X,y,test_size = 0.2, stratify = y, random_state = 42)\n",
        "print(X_train.shape, X_test.shape, y_train.shape,y_test.shape)"
      ]
    },
    {
      "cell_type": "code",
      "execution_count": 11,
      "metadata": {
        "id": "aKS2r-xvKnCV"
      },
      "outputs": [],
      "source": [
        "from sklearn.linear_model import LogisticRegression\n",
        "from sklearn.tree import DecisionTreeClassifier\n",
        "from sklearn.metrics import accuracy_score"
      ]
    },
    {
      "cell_type": "code",
      "execution_count": 12,
      "metadata": {
        "id": "nmkdolOj6kFS"
      },
      "outputs": [],
      "source": [
        "from sklearn.preprocessing import StandardScaler\n",
        "scaler = StandardScaler()\n",
        "X_train = scaler.fit_transform(X_train)\n",
        "X_test = scaler.transform(X_test)\n",
        "lr =  LogisticRegression()\n",
        "dt = DecisionTreeClassifier()"
      ]
    },
    {
      "cell_type": "code",
      "execution_count": 13,
      "metadata": {
        "colab": {
          "base_uri": "https://localhost:8080/",
          "height": 239
        },
        "id": "ocTMsqfC6x5E",
        "outputId": "21fa2944-c051-4bce-f4fe-060502a72e7a"
      },
      "outputs": [
        {
          "name": "stderr",
          "output_type": "stream",
          "text": [
            "/home/cse/anaconda3/lib/python3.11/site-packages/sklearn/linear_model/_logistic.py:460: ConvergenceWarning: lbfgs failed to converge (status=1):\n",
            "STOP: TOTAL NO. of ITERATIONS REACHED LIMIT.\n",
            "\n",
            "Increase the number of iterations (max_iter) or scale the data as shown in:\n",
            "    https://scikit-learn.org/stable/modules/preprocessing.html\n",
            "Please also refer to the documentation for alternative solver options:\n",
            "    https://scikit-learn.org/stable/modules/linear_model.html#logistic-regression\n",
            "  n_iter_i = _check_optimize_result(\n"
          ]
        },
        {
          "data": {
            "text/html": [
              "<style>#sk-container-id-1 {color: black;}#sk-container-id-1 pre{padding: 0;}#sk-container-id-1 div.sk-toggleable {background-color: white;}#sk-container-id-1 label.sk-toggleable__label {cursor: pointer;display: block;width: 100%;margin-bottom: 0;padding: 0.3em;box-sizing: border-box;text-align: center;}#sk-container-id-1 label.sk-toggleable__label-arrow:before {content: \"▸\";float: left;margin-right: 0.25em;color: #696969;}#sk-container-id-1 label.sk-toggleable__label-arrow:hover:before {color: black;}#sk-container-id-1 div.sk-estimator:hover label.sk-toggleable__label-arrow:before {color: black;}#sk-container-id-1 div.sk-toggleable__content {max-height: 0;max-width: 0;overflow: hidden;text-align: left;background-color: #f0f8ff;}#sk-container-id-1 div.sk-toggleable__content pre {margin: 0.2em;color: black;border-radius: 0.25em;background-color: #f0f8ff;}#sk-container-id-1 input.sk-toggleable__control:checked~div.sk-toggleable__content {max-height: 200px;max-width: 100%;overflow: auto;}#sk-container-id-1 input.sk-toggleable__control:checked~label.sk-toggleable__label-arrow:before {content: \"▾\";}#sk-container-id-1 div.sk-estimator input.sk-toggleable__control:checked~label.sk-toggleable__label {background-color: #d4ebff;}#sk-container-id-1 div.sk-label input.sk-toggleable__control:checked~label.sk-toggleable__label {background-color: #d4ebff;}#sk-container-id-1 input.sk-hidden--visually {border: 0;clip: rect(1px 1px 1px 1px);clip: rect(1px, 1px, 1px, 1px);height: 1px;margin: -1px;overflow: hidden;padding: 0;position: absolute;width: 1px;}#sk-container-id-1 div.sk-estimator {font-family: monospace;background-color: #f0f8ff;border: 1px dotted black;border-radius: 0.25em;box-sizing: border-box;margin-bottom: 0.5em;}#sk-container-id-1 div.sk-estimator:hover {background-color: #d4ebff;}#sk-container-id-1 div.sk-parallel-item::after {content: \"\";width: 100%;border-bottom: 1px solid gray;flex-grow: 1;}#sk-container-id-1 div.sk-label:hover label.sk-toggleable__label {background-color: #d4ebff;}#sk-container-id-1 div.sk-serial::before {content: \"\";position: absolute;border-left: 1px solid gray;box-sizing: border-box;top: 0;bottom: 0;left: 50%;z-index: 0;}#sk-container-id-1 div.sk-serial {display: flex;flex-direction: column;align-items: center;background-color: white;padding-right: 0.2em;padding-left: 0.2em;position: relative;}#sk-container-id-1 div.sk-item {position: relative;z-index: 1;}#sk-container-id-1 div.sk-parallel {display: flex;align-items: stretch;justify-content: center;background-color: white;position: relative;}#sk-container-id-1 div.sk-item::before, #sk-container-id-1 div.sk-parallel-item::before {content: \"\";position: absolute;border-left: 1px solid gray;box-sizing: border-box;top: 0;bottom: 0;left: 50%;z-index: -1;}#sk-container-id-1 div.sk-parallel-item {display: flex;flex-direction: column;z-index: 1;position: relative;background-color: white;}#sk-container-id-1 div.sk-parallel-item:first-child::after {align-self: flex-end;width: 50%;}#sk-container-id-1 div.sk-parallel-item:last-child::after {align-self: flex-start;width: 50%;}#sk-container-id-1 div.sk-parallel-item:only-child::after {width: 0;}#sk-container-id-1 div.sk-dashed-wrapped {border: 1px dashed gray;margin: 0 0.4em 0.5em 0.4em;box-sizing: border-box;padding-bottom: 0.4em;background-color: white;}#sk-container-id-1 div.sk-label label {font-family: monospace;font-weight: bold;display: inline-block;line-height: 1.2em;}#sk-container-id-1 div.sk-label-container {text-align: center;}#sk-container-id-1 div.sk-container {/* jupyter's `normalize.less` sets `[hidden] { display: none; }` but bootstrap.min.css set `[hidden] { display: none !important; }` so we also need the `!important` here to be able to override the default hidden behavior on the sphinx rendered scikit-learn.org. See: https://github.com/scikit-learn/scikit-learn/issues/21755 */display: inline-block !important;position: relative;}#sk-container-id-1 div.sk-text-repr-fallback {display: none;}</style><div id=\"sk-container-id-1\" class=\"sk-top-container\"><div class=\"sk-text-repr-fallback\"><pre>DecisionTreeClassifier()</pre><b>In a Jupyter environment, please rerun this cell to show the HTML representation or trust the notebook. <br />On GitHub, the HTML representation is unable to render, please try loading this page with nbviewer.org.</b></div><div class=\"sk-container\" hidden><div class=\"sk-item\"><div class=\"sk-estimator sk-toggleable\"><input class=\"sk-toggleable__control sk-hidden--visually\" id=\"sk-estimator-id-1\" type=\"checkbox\" checked><label for=\"sk-estimator-id-1\" class=\"sk-toggleable__label sk-toggleable__label-arrow\">DecisionTreeClassifier</label><div class=\"sk-toggleable__content\"><pre>DecisionTreeClassifier()</pre></div></div></div></div></div>"
            ],
            "text/plain": [
              "DecisionTreeClassifier()"
            ]
          },
          "execution_count": 13,
          "metadata": {},
          "output_type": "execute_result"
        }
      ],
      "source": [
        "lr.fit(X_train,y_train)\n",
        "dt.fit(X_train,y_train)"
      ]
    },
    {
      "cell_type": "code",
      "execution_count": 14,
      "metadata": {
        "id": "Oi3qnNr47e1y"
      },
      "outputs": [],
      "source": [
        "lr_preds = lr.predict(X_test)\n",
        "dt_preds = dt.predict(X_test)"
      ]
    },
    {
      "cell_type": "markdown",
      "metadata": {
        "id": "lzmNDPOd7e7-"
      },
      "source": []
    },
    {
      "cell_type": "markdown",
      "metadata": {
        "id": "KyDRFX486aBO"
      },
      "source": []
    },
    {
      "cell_type": "code",
      "execution_count": 15,
      "metadata": {
        "colab": {
          "base_uri": "https://localhost:8080/"
        },
        "id": "yPsQ_KGU7TgK",
        "outputId": "545f2ac0-23f8-4c04-bce4-e73d662da0cd"
      },
      "outputs": [
        {
          "name": "stdout",
          "output_type": "stream",
          "text": [
            "0.6549605781865966\n",
            "0.8759855453350854\n"
          ]
        }
      ],
      "source": [
        "lr_pred = accuracy_score(lr_preds, y_test)\n",
        "dt_pred = accuracy_score(dt_preds, y_test)\n",
        "print(lr_pred)\n",
        "print(dt_pred)"
      ]
    },
    {
      "cell_type": "code",
      "execution_count": 16,
      "metadata": {
        "colab": {
          "base_uri": "https://localhost:8080/"
        },
        "id": "HkEvBsAB7kzv",
        "outputId": "a3f0943d-e2d3-4d14-9206-618d03a3bb7a"
      },
      "outputs": [
        {
          "data": {
            "text/plain": [
              "array([[1484,  159,    0,    0,    0,    0,    0,    0,   31,   47,  223,\n",
              "           0,   29,    0,    0],\n",
              "       [ 379, 1137,    0,    0,    1,    0,    0,    0,  103,    0,  301,\n",
              "         116,    1,   29,   32],\n",
              "       [   0,    0, 2602,    0,    6,   11,    0,    0,    0,    0,    0,\n",
              "           0,    0,    0,    0],\n",
              "       [   0,    0,    0, 1190,    0,    0,    0,    0,    0,  836,    0,\n",
              "           0,   23,    0,    0],\n",
              "       [   0,    0,    1,    0, 2899,    0,    0,    0,    0,    0,    0,\n",
              "           0,    0,    0,    0],\n",
              "       [   0,   28,   37,    0,    4,   76,    0,    0,    0,   26,    0,\n",
              "           0,    0,    0,    0],\n",
              "       [   0,    0,    0,    0,    8,    0,   64,    0,    0,    0,    0,\n",
              "           0,    0,    0,    0],\n",
              "       [   0,    0,    0,    0,    0,    0,    0, 4820,    0,    0,    0,\n",
              "           0,    0,    0,    0],\n",
              "       [ 417,  173,    0,    0,    0,    0,    0,    0,  606,    0,  321,\n",
              "         461,    0,    0,   16],\n",
              "       [   0,   20,    0,    0,    0,    0,    0,    0,    0, 1763,    1,\n",
              "           0,    0,    0,    0],\n",
              "       [ 946,  143,    0,    0,    0,    0,    0,    0,   20,   49,  718,\n",
              "           3,   59,    0,    0],\n",
              "       [ 401,  203,    0,    0,    1,    0,    0,    0,  286,    0,  379,\n",
              "         604,    1,  151,   31],\n",
              "       [ 316,  395,    0,    0,    0,    0,    0,    0,  218,  161,  255,\n",
              "         372,  157,  113,   56],\n",
              "       [  93,   14,    0,    0,    0,    0,    0,    0,   60,    0,   74,\n",
              "          80,    0, 1680,   11],\n",
              "       [ 405,  162,    0,    0,    0,    0,    0,    0,  229,    0,  326,\n",
              "         366,    0,  284,  137]])"
            ]
          },
          "execution_count": 16,
          "metadata": {},
          "output_type": "execute_result"
        }
      ],
      "source": [
        "from sklearn.metrics import confusion_matrix\n",
        "cm = confusion_matrix(y_test, lr_preds)\n",
        "cm"
      ]
    },
    {
      "cell_type": "code",
      "execution_count": 17,
      "metadata": {
        "colab": {
          "base_uri": "https://localhost:8080/"
        },
        "id": "aYD7eYNpLUEv",
        "outputId": "98401c62-37ba-4900-d0b5-14578daab6d1"
      },
      "outputs": [
        {
          "name": "stdout",
          "output_type": "stream",
          "text": [
            "Random Forest Accuracy: 0.8836727989487516\n"
          ]
        }
      ],
      "source": [
        "from sklearn.ensemble import RandomForestClassifier\n",
        "\n",
        "rf = RandomForestClassifier(n_estimators=100, random_state=42)\n",
        "rf.fit(X_train, y_train)\n",
        "rf_preds = rf.predict(X_test)\n",
        "rf_acc = accuracy_score(rf_preds, y_test)\n",
        "print(\"Random Forest Accuracy:\", rf_acc)"
      ]
    },
    {
      "cell_type": "code",
      "execution_count": 18,
      "metadata": {
        "colab": {
          "base_uri": "https://localhost:8080/",
          "height": 373
        },
        "id": "5p1MoMnxLg3v",
        "outputId": "8b351dc2-1414-4adc-a336-cfe4e8b4b41e"
      },
      "outputs": [
        {
          "name": "stdout",
          "output_type": "stream",
          "text": [
            "SVM Accuracy: 0.6392247043363994\n"
          ]
        }
      ],
      "source": [
        "from sklearn.svm import SVC\n",
        "\n",
        "svm = SVC(kernel='rbf')\n",
        "svm.fit(X_train, y_train)\n",
        "svm_preds = svm.predict(X_test)\n",
        "svm_acc = accuracy_score(svm_preds, y_test)\n",
        "print(\"SVM Accuracy:\", svm_acc)"
      ]
    },
    {
      "cell_type": "code",
      "execution_count": 19,
      "metadata": {
        "id": "UNp-oHgpMiPR"
      },
      "outputs": [
        {
          "name": "stdout",
          "output_type": "stream",
          "text": [
            "KNN Accuracy: 0.7330486202365308\n"
          ]
        }
      ],
      "source": [
        "from sklearn.neighbors import KNeighborsClassifier\n",
        "\n",
        "knn = KNeighborsClassifier(n_neighbors=5)\n",
        "knn.fit(X_train, y_train)\n",
        "knn_preds = knn.predict(X_test)\n",
        "knn_acc = accuracy_score(knn_preds, y_test)\n",
        "print(\"KNN Accuracy:\", knn_acc)"
      ]
    },
    {
      "cell_type": "code",
      "execution_count": 23,
      "metadata": {
        "id": "KVWQxzEgNOH1"
      },
      "outputs": [
        {
          "name": "stderr",
          "output_type": "stream",
          "text": [
            "/home/cse/anaconda3/lib/python3.11/site-packages/xgboost/training.py:183: UserWarning: [12:39:22] WARNING: /workspace/src/learner.cc:738: \n",
            "Parameters: { \"use_label_encoder\" } are not used.\n",
            "\n",
            "  bst.update(dtrain, iteration=i, fobj=obj)\n"
          ]
        },
        {
          "name": "stdout",
          "output_type": "stream",
          "text": [
            "XGBoost Accuracy: 0.9091655716162943\n"
          ]
        }
      ],
      "source": [
        "from xgboost import XGBClassifier\n",
        "from sklearn.preprocessing import LabelEncoder\n",
        "le = LabelEncoder()\n",
        "y_train = le.fit_transform(y_train)\n",
        "y_test = le.transform(y_test)\n",
        "\n",
        "xgb = XGBClassifier(use_label_encoder=False, eval_metric='mlogloss')\n",
        "xgb.fit(X_train, y_train)\n",
        "xgb_preds = xgb.predict(X_test)\n",
        "xgb_acc = accuracy_score(xgb_preds, y_test)\n",
        "print(\"XGBoost Accuracy:\", xgb_acc)"
      ]
    },
    {
      "cell_type": "code",
      "execution_count": 24,
      "metadata": {
        "id": "6Jr6eITNNVHa"
      },
      "outputs": [
        {
          "name": "stdout",
          "output_type": "stream",
          "text": [
            "Naive Bayes Accuracy: 0.509526938239159\n"
          ]
        }
      ],
      "source": [
        "from sklearn.naive_bayes import GaussianNB\n",
        "\n",
        "nb = GaussianNB()\n",
        "nb.fit(X_train, y_train)\n",
        "nb_preds = nb.predict(X_test)\n",
        "nb_acc = accuracy_score(nb_preds, y_test)\n",
        "print(\"Naive Bayes Accuracy:\", nb_acc)"
      ]
    },
    {
      "cell_type": "code",
      "execution_count": 25,
      "metadata": {
        "colab": {
          "base_uri": "https://localhost:8080/"
        },
        "id": "lIUPtyMMupTH",
        "outputId": "0601dde2-c3b2-46cf-8005-453157fa83e9"
      },
      "outputs": [
        {
          "name": "stdout",
          "output_type": "stream",
          "text": [
            "Collecting shap\n",
            "  Obtaining dependency information for shap from https://files.pythonhosted.org/packages/2b/c8/7b607f4524c6315c4386cb23e92e944f38478b84e34214752b668f986b1e/shap-0.48.0-cp311-cp311-manylinux_2_17_x86_64.manylinux2014_x86_64.whl.metadata\n",
            "  Downloading shap-0.48.0-cp311-cp311-manylinux_2_17_x86_64.manylinux2014_x86_64.whl.metadata (25 kB)\n",
            "Requirement already satisfied: numpy in /home/cse/anaconda3/lib/python3.11/site-packages (from shap) (1.24.3)\n",
            "Requirement already satisfied: scipy in /home/cse/anaconda3/lib/python3.11/site-packages (from shap) (1.13.0)\n",
            "Requirement already satisfied: scikit-learn in /home/cse/anaconda3/lib/python3.11/site-packages (from shap) (1.3.2)\n",
            "Requirement already satisfied: pandas in /home/cse/anaconda3/lib/python3.11/site-packages (from shap) (2.0.3)\n",
            "Requirement already satisfied: tqdm>=4.27.0 in /home/cse/anaconda3/lib/python3.11/site-packages (from shap) (4.65.0)\n",
            "Requirement already satisfied: packaging>20.9 in /home/cse/anaconda3/lib/python3.11/site-packages (from shap) (25.0)\n",
            "Collecting slicer==0.0.8 (from shap)\n",
            "  Obtaining dependency information for slicer==0.0.8 from https://files.pythonhosted.org/packages/63/81/9ef641ff4e12cbcca30e54e72fb0951a2ba195d0cda0ba4100e532d929db/slicer-0.0.8-py3-none-any.whl.metadata\n",
            "  Downloading slicer-0.0.8-py3-none-any.whl.metadata (4.0 kB)\n",
            "Requirement already satisfied: numba>=0.54 in /home/cse/anaconda3/lib/python3.11/site-packages (from shap) (0.57.1)\n",
            "Requirement already satisfied: cloudpickle in /home/cse/anaconda3/lib/python3.11/site-packages (from shap) (2.2.1)\n",
            "Requirement already satisfied: typing-extensions in /home/cse/anaconda3/lib/python3.11/site-packages (from shap) (4.12.2)\n",
            "Requirement already satisfied: llvmlite<0.41,>=0.40.0dev0 in /home/cse/anaconda3/lib/python3.11/site-packages (from numba>=0.54->shap) (0.40.0)\n",
            "Requirement already satisfied: python-dateutil>=2.8.2 in /home/cse/anaconda3/lib/python3.11/site-packages (from pandas->shap) (2.8.2)\n",
            "Requirement already satisfied: pytz>=2020.1 in /home/cse/anaconda3/lib/python3.11/site-packages (from pandas->shap) (2023.3.post1)\n",
            "Requirement already satisfied: tzdata>=2022.1 in /home/cse/anaconda3/lib/python3.11/site-packages (from pandas->shap) (2023.3)\n",
            "Requirement already satisfied: joblib>=1.1.1 in /home/cse/anaconda3/lib/python3.11/site-packages (from scikit-learn->shap) (1.2.0)\n",
            "Requirement already satisfied: threadpoolctl>=2.0.0 in /home/cse/anaconda3/lib/python3.11/site-packages (from scikit-learn->shap) (2.2.0)\n",
            "Requirement already satisfied: six>=1.5 in /home/cse/anaconda3/lib/python3.11/site-packages (from python-dateutil>=2.8.2->pandas->shap) (1.16.0)\n",
            "Downloading shap-0.48.0-cp311-cp311-manylinux_2_17_x86_64.manylinux2014_x86_64.whl (1.0 MB)\n",
            "\u001b[2K   \u001b[90m━━━━━━━━━━━━━━━━━━━━━━━━━━━━━━━━━━━━━━━━\u001b[0m \u001b[32m1.0/1.0 MB\u001b[0m \u001b[31m8.5 MB/s\u001b[0m eta \u001b[36m0:00:00\u001b[0m:00:01\u001b[0m0:01\u001b[0m\n",
            "\u001b[?25hDownloading slicer-0.0.8-py3-none-any.whl (15 kB)\n",
            "Installing collected packages: slicer, shap\n",
            "Successfully installed shap-0.48.0 slicer-0.0.8\n"
          ]
        }
      ],
      "source": [
        "!pip install shap\n",
        "import shap"
      ]
    },
    {
      "cell_type": "code",
      "execution_count": null,
      "metadata": {
        "id": "Srrvo9AputtN"
      },
      "outputs": [],
      "source": [
        "# Explain the model's predictions using SHAP\n",
        "explainer = shap.TreeExplainer(rf)\n",
        "shap_values = explainer.shap_values(X_test)\n",
        "\n",
        "# Visualize a single prediction\n",
        "shap.initjs()\n",
        "shap.force_plot(explainer.expected_value[1], shap_values[1][0, :], X_test.iloc[0, :])"
      ]
    },
    {
      "cell_type": "code",
      "execution_count": 1,
      "metadata": {
        "id": "MloC6LK23x6O"
      },
      "outputs": [
        {
          "ename": "NameError",
          "evalue": "name 'explainer' is not defined",
          "output_type": "error",
          "traceback": [
            "\u001b[0;31m---------------------------------------------------------------------------\u001b[0m",
            "\u001b[0;31mNameError\u001b[0m                                 Traceback (most recent call last)",
            "Cell \u001b[0;32mIn[1], line 6\u001b[0m\n\u001b[1;32m      1\u001b[0m \u001b[38;5;28;01mimport\u001b[39;00m \u001b[38;5;21;01mmatplotlib\u001b[39;00m\u001b[38;5;21;01m.\u001b[39;00m\u001b[38;5;21;01mpyplot\u001b[39;00m \u001b[38;5;28;01mas\u001b[39;00m \u001b[38;5;21;01mplt\u001b[39;00m\n\u001b[1;32m      3\u001b[0m \u001b[38;5;66;03m# Assuming 'rf_classifier', 'X_test', and 'explainer' are already defined\u001b[39;00m\n\u001b[1;32m      4\u001b[0m \n\u001b[1;32m      5\u001b[0m \u001b[38;5;66;03m# Calculate SHAP values for the entire test set\u001b[39;00m\n\u001b[0;32m----> 6\u001b[0m shap_values \u001b[38;5;241m=\u001b[39m explainer\u001b[38;5;241m.\u001b[39mshap_values(X_test)\n\u001b[1;32m      8\u001b[0m \u001b[38;5;66;03m# Create a summary plot\u001b[39;00m\n\u001b[1;32m      9\u001b[0m shap\u001b[38;5;241m.\u001b[39msummary_plot(shap_values[\u001b[38;5;241m1\u001b[39m], X_test, show\u001b[38;5;241m=\u001b[39m\u001b[38;5;28;01mFalse\u001b[39;00m)\n",
            "\u001b[0;31mNameError\u001b[0m: name 'explainer' is not defined"
          ]
        }
      ],
      "source": [
        "\n",
        "import matplotlib.pyplot as plt\n",
        "\n",
        "# Assuming 'rf_classifier', 'X_test', and 'explainer' are already defined\n",
        "\n",
        "# Calculate SHAP values for the entire test set\n",
        "shap_values = explainer.shap_values(X_test)\n",
        "\n",
        "# Create a summary plot\n",
        "shap.summary_plot(shap_values[1], X_test, show=False)\n",
        "\n",
        "# Show the plot\n",
        "plt.show()\n"
      ]
    },
    {
      "cell_type": "markdown",
      "metadata": {
        "id": "CILGEVwr7k6H"
      },
      "source": []
    },
    {
      "cell_type": "markdown",
      "metadata": {
        "id": "GYEYHV6M6J-p"
      },
      "source": []
    },
    {
      "cell_type": "markdown",
      "metadata": {
        "id": "hZ9op6mQ5Gix"
      },
      "source": []
    },
    {
      "cell_type": "markdown",
      "metadata": {
        "id": "j23wbSbGyXnl"
      },
      "source": []
    }
  ],
  "metadata": {
    "colab": {
      "provenance": []
    },
    "kernelspec": {
      "display_name": "base",
      "language": "python",
      "name": "python3"
    },
    "language_info": {
      "codemirror_mode": {
        "name": "ipython",
        "version": 3
      },
      "file_extension": ".py",
      "mimetype": "text/x-python",
      "name": "python",
      "nbconvert_exporter": "python",
      "pygments_lexer": "ipython3",
      "version": "3.11.5"
    }
  },
  "nbformat": 4,
  "nbformat_minor": 0
}
