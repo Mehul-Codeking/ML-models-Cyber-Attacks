{
  "cells": [
    {
      "cell_type": "code",
      "execution_count": 4,
      "metadata": {
        "colab": {
          "base_uri": "https://localhost:8080/",
          "height": 461
        },
        "id": "TI3jovWAw4yn",
        "outputId": "dcf7edeb-35e1-43c9-9bfe-0f506c578efa"
      },
      "outputs": [
        {
          "data": {
            "text/html": [
              "<div>\n",
              "<style scoped>\n",
              "    .dataframe tbody tr th:only-of-type {\n",
              "        vertical-align: middle;\n",
              "    }\n",
              "\n",
              "    .dataframe tbody tr th {\n",
              "        vertical-align: top;\n",
              "    }\n",
              "\n",
              "    .dataframe thead th {\n",
              "        text-align: right;\n",
              "    }\n",
              "</style>\n",
              "<table border=\"1\" class=\"dataframe\">\n",
              "  <thead>\n",
              "    <tr style=\"text-align: right;\">\n",
              "      <th></th>\n",
              "      <th>arp.opcode</th>\n",
              "      <th>arp.hw.size</th>\n",
              "      <th>icmp.checksum</th>\n",
              "      <th>icmp.seq_le</th>\n",
              "      <th>icmp.unused</th>\n",
              "      <th>http.content_length</th>\n",
              "      <th>http.response</th>\n",
              "      <th>http.tls_port</th>\n",
              "      <th>tcp.ack</th>\n",
              "      <th>tcp.ack_raw</th>\n",
              "      <th>...</th>\n",
              "      <th>dns.qry.name.len-1.debian.pool.ntp.org</th>\n",
              "      <th>dns.qry.name.len-2.debian.pool.ntp.org</th>\n",
              "      <th>dns.qry.name.len-3.debian.pool.ntp.org</th>\n",
              "      <th>dns.qry.name.len-_googlecast._tcp.local</th>\n",
              "      <th>mqtt.conack.flags-0</th>\n",
              "      <th>mqtt.conack.flags-0x00000000</th>\n",
              "      <th>mqtt.protoname-0</th>\n",
              "      <th>mqtt.protoname-MQTT</th>\n",
              "      <th>mqtt.topic-0</th>\n",
              "      <th>mqtt.topic-Temperature_and_Humidity</th>\n",
              "    </tr>\n",
              "  </thead>\n",
              "  <tbody>\n",
              "    <tr>\n",
              "      <th>0</th>\n",
              "      <td>0</td>\n",
              "      <td>0</td>\n",
              "      <td>0</td>\n",
              "      <td>0</td>\n",
              "      <td>0</td>\n",
              "      <td>0</td>\n",
              "      <td>0</td>\n",
              "      <td>0</td>\n",
              "      <td>110218025</td>\n",
              "      <td>1249069932</td>\n",
              "      <td>...</td>\n",
              "      <td>False</td>\n",
              "      <td>False</td>\n",
              "      <td>False</td>\n",
              "      <td>False</td>\n",
              "      <td>True</td>\n",
              "      <td>False</td>\n",
              "      <td>True</td>\n",
              "      <td>False</td>\n",
              "      <td>True</td>\n",
              "      <td>False</td>\n",
              "    </tr>\n",
              "    <tr>\n",
              "      <th>1</th>\n",
              "      <td>0</td>\n",
              "      <td>0</td>\n",
              "      <td>0</td>\n",
              "      <td>0</td>\n",
              "      <td>0</td>\n",
              "      <td>0</td>\n",
              "      <td>0</td>\n",
              "      <td>0</td>\n",
              "      <td>1</td>\n",
              "      <td>3306662301</td>\n",
              "      <td>...</td>\n",
              "      <td>False</td>\n",
              "      <td>False</td>\n",
              "      <td>False</td>\n",
              "      <td>False</td>\n",
              "      <td>True</td>\n",
              "      <td>False</td>\n",
              "      <td>True</td>\n",
              "      <td>False</td>\n",
              "      <td>True</td>\n",
              "      <td>False</td>\n",
              "    </tr>\n",
              "    <tr>\n",
              "      <th>2</th>\n",
              "      <td>0</td>\n",
              "      <td>0</td>\n",
              "      <td>0</td>\n",
              "      <td>0</td>\n",
              "      <td>0</td>\n",
              "      <td>0</td>\n",
              "      <td>0</td>\n",
              "      <td>0</td>\n",
              "      <td>0</td>\n",
              "      <td>0</td>\n",
              "      <td>...</td>\n",
              "      <td>False</td>\n",
              "      <td>False</td>\n",
              "      <td>False</td>\n",
              "      <td>False</td>\n",
              "      <td>True</td>\n",
              "      <td>False</td>\n",
              "      <td>True</td>\n",
              "      <td>False</td>\n",
              "      <td>True</td>\n",
              "      <td>False</td>\n",
              "    </tr>\n",
              "    <tr>\n",
              "      <th>3</th>\n",
              "      <td>0</td>\n",
              "      <td>0</td>\n",
              "      <td>0</td>\n",
              "      <td>0</td>\n",
              "      <td>0</td>\n",
              "      <td>0</td>\n",
              "      <td>0</td>\n",
              "      <td>0</td>\n",
              "      <td>930</td>\n",
              "      <td>142931531</td>\n",
              "      <td>...</td>\n",
              "      <td>False</td>\n",
              "      <td>False</td>\n",
              "      <td>False</td>\n",
              "      <td>False</td>\n",
              "      <td>True</td>\n",
              "      <td>False</td>\n",
              "      <td>True</td>\n",
              "      <td>False</td>\n",
              "      <td>True</td>\n",
              "      <td>False</td>\n",
              "    </tr>\n",
              "    <tr>\n",
              "      <th>4</th>\n",
              "      <td>0</td>\n",
              "      <td>0</td>\n",
              "      <td>0</td>\n",
              "      <td>0</td>\n",
              "      <td>0</td>\n",
              "      <td>0</td>\n",
              "      <td>0</td>\n",
              "      <td>0</td>\n",
              "      <td>442</td>\n",
              "      <td>984983596</td>\n",
              "      <td>...</td>\n",
              "      <td>False</td>\n",
              "      <td>False</td>\n",
              "      <td>False</td>\n",
              "      <td>False</td>\n",
              "      <td>True</td>\n",
              "      <td>False</td>\n",
              "      <td>True</td>\n",
              "      <td>False</td>\n",
              "      <td>True</td>\n",
              "      <td>False</td>\n",
              "    </tr>\n",
              "    <tr>\n",
              "      <th>...</th>\n",
              "      <td>...</td>\n",
              "      <td>...</td>\n",
              "      <td>...</td>\n",
              "      <td>...</td>\n",
              "      <td>...</td>\n",
              "      <td>...</td>\n",
              "      <td>...</td>\n",
              "      <td>...</td>\n",
              "      <td>...</td>\n",
              "      <td>...</td>\n",
              "      <td>...</td>\n",
              "      <td>...</td>\n",
              "      <td>...</td>\n",
              "      <td>...</td>\n",
              "      <td>...</td>\n",
              "      <td>...</td>\n",
              "      <td>...</td>\n",
              "      <td>...</td>\n",
              "      <td>...</td>\n",
              "      <td>...</td>\n",
              "      <td>...</td>\n",
              "    </tr>\n",
              "    <tr>\n",
              "      <th>152191</th>\n",
              "      <td>0</td>\n",
              "      <td>0</td>\n",
              "      <td>0</td>\n",
              "      <td>0</td>\n",
              "      <td>0</td>\n",
              "      <td>0</td>\n",
              "      <td>0</td>\n",
              "      <td>0</td>\n",
              "      <td>1</td>\n",
              "      <td>2013966124</td>\n",
              "      <td>...</td>\n",
              "      <td>False</td>\n",
              "      <td>False</td>\n",
              "      <td>False</td>\n",
              "      <td>False</td>\n",
              "      <td>True</td>\n",
              "      <td>False</td>\n",
              "      <td>True</td>\n",
              "      <td>False</td>\n",
              "      <td>True</td>\n",
              "      <td>False</td>\n",
              "    </tr>\n",
              "    <tr>\n",
              "      <th>152192</th>\n",
              "      <td>0</td>\n",
              "      <td>0</td>\n",
              "      <td>0</td>\n",
              "      <td>0</td>\n",
              "      <td>0</td>\n",
              "      <td>0</td>\n",
              "      <td>0</td>\n",
              "      <td>0</td>\n",
              "      <td>0</td>\n",
              "      <td>0</td>\n",
              "      <td>...</td>\n",
              "      <td>False</td>\n",
              "      <td>False</td>\n",
              "      <td>False</td>\n",
              "      <td>False</td>\n",
              "      <td>True</td>\n",
              "      <td>False</td>\n",
              "      <td>True</td>\n",
              "      <td>False</td>\n",
              "      <td>True</td>\n",
              "      <td>False</td>\n",
              "    </tr>\n",
              "    <tr>\n",
              "      <th>152193</th>\n",
              "      <td>0</td>\n",
              "      <td>0</td>\n",
              "      <td>0</td>\n",
              "      <td>0</td>\n",
              "      <td>0</td>\n",
              "      <td>0</td>\n",
              "      <td>0</td>\n",
              "      <td>0</td>\n",
              "      <td>103</td>\n",
              "      <td>1752254882</td>\n",
              "      <td>...</td>\n",
              "      <td>False</td>\n",
              "      <td>False</td>\n",
              "      <td>False</td>\n",
              "      <td>False</td>\n",
              "      <td>True</td>\n",
              "      <td>False</td>\n",
              "      <td>True</td>\n",
              "      <td>False</td>\n",
              "      <td>True</td>\n",
              "      <td>False</td>\n",
              "    </tr>\n",
              "    <tr>\n",
              "      <th>152194</th>\n",
              "      <td>0</td>\n",
              "      <td>0</td>\n",
              "      <td>0</td>\n",
              "      <td>0</td>\n",
              "      <td>0</td>\n",
              "      <td>0</td>\n",
              "      <td>0</td>\n",
              "      <td>0</td>\n",
              "      <td>719652</td>\n",
              "      <td>2372344333</td>\n",
              "      <td>...</td>\n",
              "      <td>False</td>\n",
              "      <td>False</td>\n",
              "      <td>False</td>\n",
              "      <td>False</td>\n",
              "      <td>True</td>\n",
              "      <td>False</td>\n",
              "      <td>True</td>\n",
              "      <td>False</td>\n",
              "      <td>True</td>\n",
              "      <td>False</td>\n",
              "    </tr>\n",
              "    <tr>\n",
              "      <th>152195</th>\n",
              "      <td>0</td>\n",
              "      <td>0</td>\n",
              "      <td>0</td>\n",
              "      <td>0</td>\n",
              "      <td>0</td>\n",
              "      <td>0</td>\n",
              "      <td>0</td>\n",
              "      <td>0</td>\n",
              "      <td>0</td>\n",
              "      <td>0</td>\n",
              "      <td>...</td>\n",
              "      <td>False</td>\n",
              "      <td>False</td>\n",
              "      <td>False</td>\n",
              "      <td>False</td>\n",
              "      <td>True</td>\n",
              "      <td>False</td>\n",
              "      <td>True</td>\n",
              "      <td>False</td>\n",
              "      <td>True</td>\n",
              "      <td>False</td>\n",
              "    </tr>\n",
              "  </tbody>\n",
              "</table>\n",
              "<p>152196 rows × 69 columns</p>\n",
              "</div>"
            ],
            "text/plain": [
              "        arp.opcode  arp.hw.size  icmp.checksum  icmp.seq_le  icmp.unused  \\\n",
              "0                0            0              0            0            0   \n",
              "1                0            0              0            0            0   \n",
              "2                0            0              0            0            0   \n",
              "3                0            0              0            0            0   \n",
              "4                0            0              0            0            0   \n",
              "...            ...          ...            ...          ...          ...   \n",
              "152191           0            0              0            0            0   \n",
              "152192           0            0              0            0            0   \n",
              "152193           0            0              0            0            0   \n",
              "152194           0            0              0            0            0   \n",
              "152195           0            0              0            0            0   \n",
              "\n",
              "        http.content_length  http.response  http.tls_port    tcp.ack  \\\n",
              "0                         0              0              0  110218025   \n",
              "1                         0              0              0          1   \n",
              "2                         0              0              0          0   \n",
              "3                         0              0              0        930   \n",
              "4                         0              0              0        442   \n",
              "...                     ...            ...            ...        ...   \n",
              "152191                    0              0              0          1   \n",
              "152192                    0              0              0          0   \n",
              "152193                    0              0              0        103   \n",
              "152194                    0              0              0     719652   \n",
              "152195                    0              0              0          0   \n",
              "\n",
              "        tcp.ack_raw  ...  dns.qry.name.len-1.debian.pool.ntp.org  \\\n",
              "0        1249069932  ...                                   False   \n",
              "1        3306662301  ...                                   False   \n",
              "2                 0  ...                                   False   \n",
              "3         142931531  ...                                   False   \n",
              "4         984983596  ...                                   False   \n",
              "...             ...  ...                                     ...   \n",
              "152191   2013966124  ...                                   False   \n",
              "152192            0  ...                                   False   \n",
              "152193   1752254882  ...                                   False   \n",
              "152194   2372344333  ...                                   False   \n",
              "152195            0  ...                                   False   \n",
              "\n",
              "        dns.qry.name.len-2.debian.pool.ntp.org  \\\n",
              "0                                        False   \n",
              "1                                        False   \n",
              "2                                        False   \n",
              "3                                        False   \n",
              "4                                        False   \n",
              "...                                        ...   \n",
              "152191                                   False   \n",
              "152192                                   False   \n",
              "152193                                   False   \n",
              "152194                                   False   \n",
              "152195                                   False   \n",
              "\n",
              "        dns.qry.name.len-3.debian.pool.ntp.org  \\\n",
              "0                                        False   \n",
              "1                                        False   \n",
              "2                                        False   \n",
              "3                                        False   \n",
              "4                                        False   \n",
              "...                                        ...   \n",
              "152191                                   False   \n",
              "152192                                   False   \n",
              "152193                                   False   \n",
              "152194                                   False   \n",
              "152195                                   False   \n",
              "\n",
              "        dns.qry.name.len-_googlecast._tcp.local  mqtt.conack.flags-0  \\\n",
              "0                                         False                 True   \n",
              "1                                         False                 True   \n",
              "2                                         False                 True   \n",
              "3                                         False                 True   \n",
              "4                                         False                 True   \n",
              "...                                         ...                  ...   \n",
              "152191                                    False                 True   \n",
              "152192                                    False                 True   \n",
              "152193                                    False                 True   \n",
              "152194                                    False                 True   \n",
              "152195                                    False                 True   \n",
              "\n",
              "        mqtt.conack.flags-0x00000000  mqtt.protoname-0  mqtt.protoname-MQTT  \\\n",
              "0                              False              True                False   \n",
              "1                              False              True                False   \n",
              "2                              False              True                False   \n",
              "3                              False              True                False   \n",
              "4                              False              True                False   \n",
              "...                              ...               ...                  ...   \n",
              "152191                         False              True                False   \n",
              "152192                         False              True                False   \n",
              "152193                         False              True                False   \n",
              "152194                         False              True                False   \n",
              "152195                         False              True                False   \n",
              "\n",
              "        mqtt.topic-0  mqtt.topic-Temperature_and_Humidity  \n",
              "0               True                                False  \n",
              "1               True                                False  \n",
              "2               True                                False  \n",
              "3               True                                False  \n",
              "4               True                                False  \n",
              "...              ...                                  ...  \n",
              "152191          True                                False  \n",
              "152192          True                                False  \n",
              "152193          True                                False  \n",
              "152194          True                                False  \n",
              "152195          True                                False  \n",
              "\n",
              "[152196 rows x 69 columns]"
            ]
          },
          "execution_count": 4,
          "metadata": {},
          "output_type": "execute_result"
        }
      ],
      "source": [
        "import pandas as pd\n",
        "import numpy as np\n",
        "from matplotlib import pyplot as plt\n",
        "import seaborn as sns\n",
        "df = pd.read_csv('preprocessed_DNN (5).csv', low_memory=False)\n",
        "df"
      ]
    },
    {
      "cell_type": "code",
      "execution_count": 5,
      "metadata": {
        "id": "SfSYkcXbRmqV"
      },
      "outputs": [],
      "source": [
        "feat_cols = list(df.columns)\n",
        "label_col = \"Attack_type\"\n",
        "\n",
        "feat_cols.remove(label_col)"
      ]
    },
    {
      "cell_type": "code",
      "execution_count": 6,
      "metadata": {
        "id": "IOUG7jBxRsUH"
      },
      "outputs": [],
      "source": [
        "skip_list = [\"icmp.unused\", \"http.tls_port\", \"dns.qry.type\", \"mqtt.msg_decoded_as\"]"
      ]
    },
    {
      "cell_type": "code",
      "execution_count": 7,
      "metadata": {
        "colab": {
          "base_uri": "https://localhost:8080/",
          "height": 146
        },
        "id": "CN94DTFeRydI",
        "outputId": "bd6ddab3-2253-427f-e4a3-dad947091d66"
      },
      "outputs": [
        {
          "data": {
            "text/plain": [
              "mqtt.msg_decoded_as\n",
              "0    152196\n",
              "Name: count, dtype: int64"
            ]
          },
          "execution_count": 7,
          "metadata": {},
          "output_type": "execute_result"
        }
      ],
      "source": [
        "df[skip_list[3]].value_counts()"
      ]
    },
    {
      "cell_type": "code",
      "execution_count": 8,
      "metadata": {
        "id": "4Naxo_blR5mS"
      },
      "outputs": [],
      "source": [
        "X = df.drop([label_col], axis=1)\n",
        "y = df[label_col]"
      ]
    },
    {
      "cell_type": "markdown",
      "metadata": {
        "id": "P84snZF6RsZ3"
      },
      "source": []
    },
    {
      "cell_type": "markdown",
      "metadata": {
        "id": "-zzG_yVrRmv3"
      },
      "source": []
    },
    {
      "cell_type": "code",
      "execution_count": 9,
      "metadata": {
        "id": "h6dSY46Rx3Qf"
      },
      "outputs": [],
      "source": [
        "from sklearn.model_selection import train_test_split\n",
        "\n",
        "X_train, X_test, y_train, y_test = train_test_split(X, y, test_size=0.2, random_state=1, stratify=y)\n",
        "\n",
        "del X\n",
        "del y"
      ]
    },
    {
      "cell_type": "code",
      "execution_count": 10,
      "metadata": {
        "id": "wRdPppbYx65M"
      },
      "outputs": [],
      "source": [
        "from sklearn.preprocessing import LabelEncoder\n",
        "\n",
        "\n",
        "label_encoder = LabelEncoder()\n",
        "y_train =  label_encoder.fit_transform(y_train)\n",
        "y_test = label_encoder.transform(y_test)"
      ]
    },
    {
      "cell_type": "code",
      "execution_count": 11,
      "metadata": {
        "id": "817PEoHqx9r0"
      },
      "outputs": [],
      "source": [
        "from sklearn.preprocessing import MinMaxScaler\n",
        "\n",
        "min_max_scaler = MinMaxScaler()\n",
        "X_train =  min_max_scaler.fit_transform(X_train)\n",
        "X_test = min_max_scaler.transform(X_test)"
      ]
    },
    {
      "cell_type": "code",
      "execution_count": 12,
      "metadata": {
        "id": "bqtH-fkZyEq5"
      },
      "outputs": [],
      "source": [
        "#X_train = X_train.reshape(X_train.shape[0], X_train.shape[1], 1)\n",
        "#X_test = X_test.reshape(X_test.shape[0], X_test.shape[1], 1)"
      ]
    },
    {
      "cell_type": "code",
      "execution_count": 13,
      "metadata": {
        "colab": {
          "base_uri": "https://localhost:8080/"
        },
        "id": "KCP6KxN5yHAF",
        "outputId": "74deb1ea-2289-49d5-c9d0-6a4b53c5954e"
      },
      "outputs": [
        {
          "name": "stdout",
          "output_type": "stream",
          "text": [
            "(121756, 68)\n",
            "(30440, 68)\n"
          ]
        }
      ],
      "source": [
        "print(X_train.shape)\n",
        "print(X_test.shape)"
      ]
    },
    {
      "cell_type": "code",
      "execution_count": 14,
      "metadata": {
        "id": "LT_OP50zyRUg"
      },
      "outputs": [],
      "source": [
        "input_shape = X_train.shape[1:]"
      ]
    },
    {
      "cell_type": "code",
      "execution_count": 15,
      "metadata": {
        "colab": {
          "base_uri": "https://localhost:8080/"
        },
        "id": "bhLGxILdyXhl",
        "outputId": "f3304050-d4ad-4b17-dac9-813fec24aaae"
      },
      "outputs": [
        {
          "name": "stdout",
          "output_type": "stream",
          "text": [
            "(121756, 68) (30440, 68)\n",
            "(68,)\n"
          ]
        }
      ],
      "source": [
        "print(X_train.shape, X_test.shape)\n",
        "print(input_shape)"
      ]
    },
    {
      "cell_type": "code",
      "execution_count": 16,
      "metadata": {
        "colab": {
          "base_uri": "https://localhost:8080/"
        },
        "id": "pcu0TJAKykik",
        "outputId": "0a3f2c84-ee07-43c0-cf2d-d3ff2c7070ef"
      },
      "outputs": [
        {
          "data": {
            "text/plain": [
              "15"
            ]
          },
          "execution_count": 16,
          "metadata": {},
          "output_type": "execute_result"
        }
      ],
      "source": [
        "num_classes = len(np.unique(y_train))\n",
        "num_classes"
      ]
    },
    {
      "cell_type": "code",
      "execution_count": 17,
      "metadata": {
        "id": "Hdx__HZcyeIx"
      },
      "outputs": [
        {
          "name": "stderr",
          "output_type": "stream",
          "text": [
            "2025-07-04 13:54:09.174362: I tensorflow/core/util/port.cc:113] oneDNN custom operations are on. You may see slightly different numerical results due to floating-point round-off errors from different computation orders. To turn them off, set the environment variable `TF_ENABLE_ONEDNN_OPTS=0`.\n",
            "2025-07-04 13:54:09.175890: I external/local_tsl/tsl/cuda/cudart_stub.cc:31] Could not find cuda drivers on your machine, GPU will not be used.\n",
            "2025-07-04 13:54:09.194643: E external/local_xla/xla/stream_executor/cuda/cuda_dnn.cc:9261] Unable to register cuDNN factory: Attempting to register factory for plugin cuDNN when one has already been registered\n",
            "2025-07-04 13:54:09.194675: E external/local_xla/xla/stream_executor/cuda/cuda_fft.cc:607] Unable to register cuFFT factory: Attempting to register factory for plugin cuFFT when one has already been registered\n",
            "2025-07-04 13:54:09.195245: E external/local_xla/xla/stream_executor/cuda/cuda_blas.cc:1515] Unable to register cuBLAS factory: Attempting to register factory for plugin cuBLAS when one has already been registered\n",
            "2025-07-04 13:54:09.198682: I external/local_tsl/tsl/cuda/cudart_stub.cc:31] Could not find cuda drivers on your machine, GPU will not be used.\n",
            "2025-07-04 13:54:09.199251: I tensorflow/core/platform/cpu_feature_guard.cc:182] This TensorFlow binary is optimized to use available CPU instructions in performance-critical operations.\n",
            "To enable the following instructions: AVX2 AVX_VNNI FMA, in other operations, rebuild TensorFlow with the appropriate compiler flags.\n",
            "2025-07-04 13:54:09.705785: W tensorflow/compiler/tf2tensorrt/utils/py_utils.cc:38] TF-TRT Warning: Could not find TensorRT\n"
          ]
        }
      ],
      "source": [
        "from  tensorflow.keras.utils import to_categorical\n",
        "\n",
        "y_train = to_categorical(y_train, num_classes=num_classes)\n",
        "y_test = to_categorical(y_test, num_classes=num_classes)"
      ]
    },
    {
      "cell_type": "code",
      "execution_count": 18,
      "metadata": {
        "colab": {
          "base_uri": "https://localhost:8080/"
        },
        "id": "jwovWWWCyoQ0",
        "outputId": "e2e8fd98-2e16-469e-d8c8-9f985d414e84"
      },
      "outputs": [
        {
          "name": "stdout",
          "output_type": "stream",
          "text": [
            "(121756, 15) (30440, 15)\n"
          ]
        }
      ],
      "source": [
        "print(y_train.shape, y_test.shape)"
      ]
    },
    {
      "cell_type": "markdown",
      "metadata": {
        "id": "j23wbSbGyXnl"
      },
      "source": []
    },
    {
      "cell_type": "code",
      "execution_count": 19,
      "metadata": {
        "colab": {
          "base_uri": "https://localhost:8080/",
          "height": 803
        },
        "id": "w9n4QfRxSzF8",
        "outputId": "358b02d7-0966-4d26-fe6f-9381b28748ad"
      },
      "outputs": [
        {
          "name": "stdout",
          "output_type": "stream",
          "text": [
            "Model: \"model\"\n",
            "__________________________________________________________________________________________________\n",
            " Layer (type)                Output Shape                 Param #   Connected to                  \n",
            "==================================================================================================\n",
            " input_1 (InputLayer)        [(None, 68, 1)]              0         []                            \n",
            "                                                                                                  \n",
            " conv1d (Conv1D)             (None, 68, 32)               128       ['input_1[0][0]']             \n",
            "                                                                                                  \n",
            " max_pooling1d (MaxPooling1  (None, 34, 32)               0         ['conv1d[0][0]']              \n",
            " D)                                                                                               \n",
            "                                                                                                  \n",
            " conv1d_1 (Conv1D)           (None, 34, 64)               6208      ['max_pooling1d[0][0]']       \n",
            "                                                                                                  \n",
            " max_pooling1d_1 (MaxPoolin  (None, 17, 64)               0         ['conv1d_1[0][0]']            \n",
            " g1D)                                                                                             \n",
            "                                                                                                  \n",
            " multi_head_attention (Mult  (None, 17, 64)               16640     ['max_pooling1d_1[0][0]',     \n",
            " iHeadAttention)                                                     'max_pooling1d_1[0][0]']     \n",
            "                                                                                                  \n",
            " dropout (Dropout)           (None, 17, 64)               0         ['multi_head_attention[0][0]']\n",
            "                                                                                                  \n",
            " add (Add)                   (None, 17, 64)               0         ['max_pooling1d_1[0][0]',     \n",
            "                                                                     'dropout[0][0]']             \n",
            "                                                                                                  \n",
            " layer_normalization (Layer  (None, 17, 64)               128       ['add[0][0]']                 \n",
            " Normalization)                                                                                   \n",
            "                                                                                                  \n",
            " sequential (Sequential)     (None, 17, 64)               16576     ['layer_normalization[0][0]'] \n",
            "                                                                                                  \n",
            " add_1 (Add)                 (None, 17, 64)               0         ['layer_normalization[0][0]', \n",
            "                                                                     'sequential[0][0]']          \n",
            "                                                                                                  \n",
            " layer_normalization_1 (Lay  (None, 17, 64)               128       ['add_1[0][0]']               \n",
            " erNormalization)                                                                                 \n",
            "                                                                                                  \n",
            " global_average_pooling1d (  (None, 64)                   0         ['layer_normalization_1[0][0]'\n",
            " GlobalAveragePooling1D)                                            ]                             \n",
            "                                                                                                  \n",
            " dense_2 (Dense)             (None, 64)                   4160      ['global_average_pooling1d[0][\n",
            "                                                                    0]']                          \n",
            "                                                                                                  \n",
            " dense_3 (Dense)             (None, 15)                   975       ['dense_2[0][0]']             \n",
            "                                                                                                  \n",
            "==================================================================================================\n",
            "Total params: 44943 (175.56 KB)\n",
            "Trainable params: 44943 (175.56 KB)\n",
            "Non-trainable params: 0 (0.00 Byte)\n",
            "__________________________________________________________________________________________________\n"
          ]
        }
      ],
      "source": [
        "import tensorflow as tf\n",
        "from tensorflow.keras.models import Model\n",
        "from tensorflow.keras.layers import (\n",
        "    Input, Conv1D, MaxPooling1D, MultiHeadAttention,\n",
        "    LayerNormalization, Add, Dropout, Dense, GlobalAveragePooling1D, Reshape\n",
        ")\n",
        "\n",
        "# Data shape:\n",
        "num_features = 68\n",
        "num_classes = 15\n",
        "\n",
        "# For Conv1D, reshape input to (sequence_length, num_channels)\n",
        "# Here, treat features as \"sequence_length = 68\", with 1 channel per feature\n",
        "inputs = Input(shape=(num_features, 1))  # reshape your data to (batch, 68, 1)\n",
        "\n",
        "# CNN feature extractor\n",
        "x = Conv1D(32, 3, activation='relu', padding='same')(inputs)\n",
        "x = MaxPooling1D(2)(x)\n",
        "\n",
        "x = Conv1D(64, 3, activation='relu', padding='same')(x)\n",
        "x = MaxPooling1D(2)(x)\n",
        "\n",
        "# Transformer block\n",
        "attention_output = MultiHeadAttention(num_heads=4, key_dim=16)(x, x)\n",
        "attention_output = Dropout(0.1)(attention_output)\n",
        "x = Add()([x, attention_output])\n",
        "x = LayerNormalization(epsilon=1e-6)(x)\n",
        "\n",
        "ffn = tf.keras.Sequential([\n",
        "    Dense(128, activation='relu'),\n",
        "    Dense(x.shape[-1])\n",
        "])\n",
        "ffn_output = ffn(x)\n",
        "x = Add()([x, ffn_output])\n",
        "x = LayerNormalization(epsilon=1e-6)(x)\n",
        "\n",
        "# Classification head\n",
        "x = GlobalAveragePooling1D()(x)\n",
        "x = Dense(64, activation='relu')(x)\n",
        "outputs = Dense(num_classes, activation='softmax')(x)\n",
        "\n",
        "model = Model(inputs=inputs, outputs=outputs)\n",
        "\n",
        "model.summary()"
      ]
    },
    {
      "cell_type": "code",
      "execution_count": 20,
      "metadata": {
        "id": "5_NV3-CWTYSl"
      },
      "outputs": [],
      "source": [
        "model.compile(\n",
        "    optimizer='adam',\n",
        "    loss='categorical_crossentropy',  # or 'sparse_categorical_crossentropy'\n",
        "    metrics=['accuracy']\n",
        ")"
      ]
    },
    {
      "cell_type": "code",
      "execution_count": 21,
      "metadata": {
        "colab": {
          "base_uri": "https://localhost:8080/"
        },
        "id": "EyUHQonYTk2H",
        "outputId": "ecbf7bd2-8a5e-478f-9719-a80271fff7b6"
      },
      "outputs": [
        {
          "name": "stdout",
          "output_type": "stream",
          "text": [
            "Epoch 1/15\n",
            "476/476 [==============================] - 6s 10ms/step - loss: 1.4479 - accuracy: 0.4796 - val_loss: 1.0959 - val_accuracy: 0.5630 - lr: 0.0010\n",
            "Epoch 2/15\n",
            "476/476 [==============================] - 5s 10ms/step - loss: 1.0629 - accuracy: 0.5671 - val_loss: 1.0317 - val_accuracy: 0.5694 - lr: 0.0010\n",
            "Epoch 3/15\n",
            "476/476 [==============================] - 5s 10ms/step - loss: 1.0044 - accuracy: 0.5884 - val_loss: 0.9822 - val_accuracy: 0.5933 - lr: 0.0010\n",
            "Epoch 4/15\n",
            "476/476 [==============================] - 5s 10ms/step - loss: 0.9717 - accuracy: 0.5992 - val_loss: 0.9543 - val_accuracy: 0.6017 - lr: 0.0010\n",
            "Epoch 5/15\n",
            "476/476 [==============================] - 5s 10ms/step - loss: 0.9462 - accuracy: 0.6084 - val_loss: 0.9164 - val_accuracy: 0.6270 - lr: 0.0010\n",
            "Epoch 6/15\n",
            "476/476 [==============================] - 5s 10ms/step - loss: 0.9224 - accuracy: 0.6206 - val_loss: 0.9002 - val_accuracy: 0.6308 - lr: 0.0010\n",
            "Epoch 7/15\n",
            "476/476 [==============================] - 5s 10ms/step - loss: 0.9058 - accuracy: 0.6330 - val_loss: 0.8841 - val_accuracy: 0.6501 - lr: 0.0010\n",
            "Epoch 8/15\n",
            "476/476 [==============================] - 5s 10ms/step - loss: 0.8830 - accuracy: 0.6429 - val_loss: 0.9031 - val_accuracy: 0.6250 - lr: 0.0010\n",
            "Epoch 9/15\n",
            "476/476 [==============================] - 5s 10ms/step - loss: 0.8698 - accuracy: 0.6522 - val_loss: 0.8581 - val_accuracy: 0.6608 - lr: 0.0010\n",
            "Epoch 10/15\n",
            "476/476 [==============================] - 5s 10ms/step - loss: 0.8550 - accuracy: 0.6572 - val_loss: 0.8417 - val_accuracy: 0.6597 - lr: 0.0010\n",
            "Epoch 11/15\n",
            "476/476 [==============================] - 5s 11ms/step - loss: 0.8388 - accuracy: 0.6624 - val_loss: 0.8385 - val_accuracy: 0.6659 - lr: 0.0010\n",
            "Epoch 12/15\n",
            "476/476 [==============================] - 5s 11ms/step - loss: 0.8268 - accuracy: 0.6667 - val_loss: 0.8197 - val_accuracy: 0.6742 - lr: 0.0010\n",
            "Epoch 13/15\n",
            "476/476 [==============================] - 5s 11ms/step - loss: 0.8098 - accuracy: 0.6719 - val_loss: 0.7865 - val_accuracy: 0.6798 - lr: 0.0010\n",
            "Epoch 14/15\n",
            "476/476 [==============================] - 5s 11ms/step - loss: 0.7844 - accuracy: 0.6800 - val_loss: 0.7715 - val_accuracy: 0.6822 - lr: 0.0010\n",
            "Epoch 15/15\n",
            "476/476 [==============================] - 5s 11ms/step - loss: 0.7752 - accuracy: 0.6832 - val_loss: 0.7936 - val_accuracy: 0.6849 - lr: 0.0010\n"
          ]
        }
      ],
      "source": [
        "from keras.callbacks import ModelCheckpoint, EarlyStopping, ReduceLROnPlateau\n",
        "#from livelossplot import PlotLossesKeras\n",
        "\n",
        "\n",
        "#model_weights_file_path = \"model_best_weights.h5\"\n",
        "#checkpoint = ModelCheckpoint(filepath=model_weights_file_path, monitor=\"val_loss\", verbose=1, save_best_only=True, mode=\"min\", save_weights_only=True)\n",
        "#checkpoint = ModelCheckpoint(filepath=model_weights_file_path, monitor=\"val_loss\", verbose=1, save_best_only=True, mode=\"min\", save_weights_only=True)\n",
        "early_stopping = EarlyStopping(monitor=\"val_loss\", mode=\"min\", verbose=1, patience=10)\n",
        "lr_reduce = ReduceLROnPlateau(monitor='val_loss', factor=0.5, patience=5, mode=\"min\", verbose=1, min_lr=0)\n",
        "#plotlosses = PlotLossesKeras()\n",
        "call_backs = [ early_stopping, lr_reduce]\n",
        "EPOCHS = 15\n",
        "BATCH_SIZE = 256\n",
        "call_backs = [early_stopping, lr_reduce]\n",
        "history = model.fit(X_train, y_train,\n",
        "                    validation_data=(X_test, y_test),\n",
        "                    validation_split=0.1,\n",
        "                    epochs=EPOCHS,\n",
        "                    batch_size=BATCH_SIZE,\n",
        "                    callbacks=call_backs,\n",
        "                    #class_weight=class_weights,\n",
        "                    verbose=1)"
      ]
    }
  ],
  "metadata": {
    "colab": {
      "provenance": []
    },
    "kernelspec": {
      "display_name": "base",
      "language": "python",
      "name": "python3"
    },
    "language_info": {
      "codemirror_mode": {
        "name": "ipython",
        "version": 3
      },
      "file_extension": ".py",
      "mimetype": "text/x-python",
      "name": "python",
      "nbconvert_exporter": "python",
      "pygments_lexer": "ipython3",
      "version": "3.11.5"
    }
  },
  "nbformat": 4,
  "nbformat_minor": 0
}
