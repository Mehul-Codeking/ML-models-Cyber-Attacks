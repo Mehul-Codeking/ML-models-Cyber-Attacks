{
  "cells": [
    {
      "cell_type": "code",
      "execution_count": 6,
      "metadata": {
        "id": "JMTUcH42vuPF"
      },
      "outputs": [],
      "source": [
        "import pandas as pd\n",
        "import numpy as np\n",
        "\n",
        "df = pd.read_csv('Edge-2 IoT Dataset.csv', low_memory=False)"
      ]
    },
    {
      "cell_type": "code",
      "execution_count": 7,
      "metadata": {
        "colab": {
          "base_uri": "https://localhost:8080/"
        },
        "id": "MXHKJbiiwlaI",
        "outputId": "fec6a186-54fb-4057-c26a-281512b57ba9"
      },
      "outputs": [
        {
          "name": "stdout",
          "output_type": "stream",
          "text": [
            "Attack_type\n",
            "Normal                   24101\n",
            "DDoS_UDP                 14498\n",
            "DDoS_ICMP                13096\n",
            "DDoS_HTTP                10495\n",
            "SQL_injection            10282\n",
            "DDoS_TCP                 10247\n",
            "Uploading                10214\n",
            "Vulnerability_scanner    10062\n",
            "Password                  9972\n",
            "Backdoor                  9865\n",
            "Ransomware                9689\n",
            "XSS                       9543\n",
            "Port_Scanning             8921\n",
            "Fingerprinting             853\n",
            "MITM                       358\n",
            "Name: count, dtype: int64\n"
          ]
        }
      ],
      "source": [
        "from sklearn.utils import shuffle\n",
        "drop_columns = [\"frame.time\", \"ip.src_host\", \"ip.dst_host\", \"arp.src.proto_ipv4\",\"arp.dst.proto_ipv4\",\n",
        "                \"http.file_data\",\"http.request.full_uri\",\"icmp.transmit_timestamp\",\n",
        "                \"http.request.uri.query\", \"tcp.options\",\"tcp.payload\",\"tcp.srcport\",\n",
        "                \"tcp.dstport\", \"udp.port\", \"mqtt.msg\"]\n",
        "\n",
        "df.drop(drop_columns, axis=1, inplace=True)\n",
        "df.dropna(axis=0, how='any', inplace=True)\n",
        "df.drop_duplicates(subset=None, keep=\"first\", inplace=True)\n",
        "df = shuffle(df)\n",
        "df.isna().sum()\n",
        "print(df['Attack_type'].value_counts())"
      ]
    },
    {
      "cell_type": "code",
      "execution_count": 8,
      "metadata": {
        "id": "lunIK_HnwrXP"
      },
      "outputs": [],
      "source": [
        "import numpy as np\n",
        "from sklearn.model_selection import train_test_split\n",
        "from sklearn.preprocessing import StandardScaler\n",
        "from sklearn import preprocessing\n",
        "\n",
        "def encode_text_dummy(df, name):\n",
        "    dummies = pd.get_dummies(df[name])\n",
        "    for x in dummies.columns:\n",
        "        dummy_name = f\"{name}-{x}\"\n",
        "        df[dummy_name] = dummies[x]\n",
        "    df.drop(name, axis=1, inplace=True)\n",
        "\n",
        "encode_text_dummy(df,'http.request.method')\n",
        "encode_text_dummy(df,'http.referer')\n",
        "encode_text_dummy(df,\"http.request.version\")\n",
        "encode_text_dummy(df,\"dns.qry.name.len\")\n",
        "encode_text_dummy(df,\"mqtt.conack.flags\")\n",
        "encode_text_dummy(df,\"mqtt.protoname\")\n",
        "encode_text_dummy(df,\"mqtt.topic\")"
      ]
    },
    {
      "cell_type": "code",
      "execution_count": 9,
      "metadata": {
        "id": "IISlj9Yiw0mP"
      },
      "outputs": [],
      "source": [
        "df.to_csv('preprocessed_DNN.csv', encoding='utf-8', index=False)"
      ]
    },
    {
      "cell_type": "code",
      "execution_count": 10,
      "metadata": {
        "colab": {
          "base_uri": "https://localhost:8080/",
          "height": 461
        },
        "id": "TI3jovWAw4yn",
        "outputId": "251e207e-54bd-4fc6-fb4d-cc3a6db4efcd"
      },
      "outputs": [
        {
          "data": {
            "text/html": [
              "<div>\n",
              "<style scoped>\n",
              "    .dataframe tbody tr th:only-of-type {\n",
              "        vertical-align: middle;\n",
              "    }\n",
              "\n",
              "    .dataframe tbody tr th {\n",
              "        vertical-align: top;\n",
              "    }\n",
              "\n",
              "    .dataframe thead th {\n",
              "        text-align: right;\n",
              "    }\n",
              "</style>\n",
              "<table border=\"1\" class=\"dataframe\">\n",
              "  <thead>\n",
              "    <tr style=\"text-align: right;\">\n",
              "      <th></th>\n",
              "      <th>arp.opcode</th>\n",
              "      <th>arp.hw.size</th>\n",
              "      <th>icmp.checksum</th>\n",
              "      <th>icmp.seq_le</th>\n",
              "      <th>icmp.unused</th>\n",
              "      <th>http.content_length</th>\n",
              "      <th>http.response</th>\n",
              "      <th>http.tls_port</th>\n",
              "      <th>tcp.ack</th>\n",
              "      <th>tcp.ack_raw</th>\n",
              "      <th>...</th>\n",
              "      <th>dns.qry.name.len-1.debian.pool.ntp.org</th>\n",
              "      <th>dns.qry.name.len-2.debian.pool.ntp.org</th>\n",
              "      <th>dns.qry.name.len-3.debian.pool.ntp.org</th>\n",
              "      <th>dns.qry.name.len-_googlecast._tcp.local</th>\n",
              "      <th>mqtt.conack.flags-0</th>\n",
              "      <th>mqtt.conack.flags-0x00000000</th>\n",
              "      <th>mqtt.protoname-0</th>\n",
              "      <th>mqtt.protoname-MQTT</th>\n",
              "      <th>mqtt.topic-0</th>\n",
              "      <th>mqtt.topic-Temperature_and_Humidity</th>\n",
              "    </tr>\n",
              "  </thead>\n",
              "  <tbody>\n",
              "    <tr>\n",
              "      <th>0</th>\n",
              "      <td>0</td>\n",
              "      <td>0</td>\n",
              "      <td>0</td>\n",
              "      <td>0</td>\n",
              "      <td>0</td>\n",
              "      <td>0</td>\n",
              "      <td>0</td>\n",
              "      <td>0</td>\n",
              "      <td>0</td>\n",
              "      <td>0</td>\n",
              "      <td>...</td>\n",
              "      <td>False</td>\n",
              "      <td>False</td>\n",
              "      <td>False</td>\n",
              "      <td>False</td>\n",
              "      <td>True</td>\n",
              "      <td>False</td>\n",
              "      <td>True</td>\n",
              "      <td>False</td>\n",
              "      <td>True</td>\n",
              "      <td>False</td>\n",
              "    </tr>\n",
              "    <tr>\n",
              "      <th>1</th>\n",
              "      <td>0</td>\n",
              "      <td>0</td>\n",
              "      <td>0</td>\n",
              "      <td>0</td>\n",
              "      <td>0</td>\n",
              "      <td>0</td>\n",
              "      <td>0</td>\n",
              "      <td>0</td>\n",
              "      <td>0</td>\n",
              "      <td>0</td>\n",
              "      <td>...</td>\n",
              "      <td>False</td>\n",
              "      <td>False</td>\n",
              "      <td>False</td>\n",
              "      <td>False</td>\n",
              "      <td>True</td>\n",
              "      <td>False</td>\n",
              "      <td>True</td>\n",
              "      <td>False</td>\n",
              "      <td>True</td>\n",
              "      <td>False</td>\n",
              "    </tr>\n",
              "    <tr>\n",
              "      <th>2</th>\n",
              "      <td>0</td>\n",
              "      <td>0</td>\n",
              "      <td>29205</td>\n",
              "      <td>58174</td>\n",
              "      <td>0</td>\n",
              "      <td>0</td>\n",
              "      <td>0</td>\n",
              "      <td>0</td>\n",
              "      <td>0</td>\n",
              "      <td>0</td>\n",
              "      <td>...</td>\n",
              "      <td>False</td>\n",
              "      <td>False</td>\n",
              "      <td>False</td>\n",
              "      <td>False</td>\n",
              "      <td>True</td>\n",
              "      <td>False</td>\n",
              "      <td>True</td>\n",
              "      <td>False</td>\n",
              "      <td>True</td>\n",
              "      <td>False</td>\n",
              "    </tr>\n",
              "    <tr>\n",
              "      <th>3</th>\n",
              "      <td>0</td>\n",
              "      <td>0</td>\n",
              "      <td>0</td>\n",
              "      <td>0</td>\n",
              "      <td>0</td>\n",
              "      <td>0</td>\n",
              "      <td>0</td>\n",
              "      <td>0</td>\n",
              "      <td>1</td>\n",
              "      <td>2332812476</td>\n",
              "      <td>...</td>\n",
              "      <td>False</td>\n",
              "      <td>False</td>\n",
              "      <td>False</td>\n",
              "      <td>False</td>\n",
              "      <td>True</td>\n",
              "      <td>False</td>\n",
              "      <td>True</td>\n",
              "      <td>False</td>\n",
              "      <td>True</td>\n",
              "      <td>False</td>\n",
              "    </tr>\n",
              "    <tr>\n",
              "      <th>4</th>\n",
              "      <td>0</td>\n",
              "      <td>0</td>\n",
              "      <td>0</td>\n",
              "      <td>0</td>\n",
              "      <td>0</td>\n",
              "      <td>47</td>\n",
              "      <td>0</td>\n",
              "      <td>0</td>\n",
              "      <td>35642</td>\n",
              "      <td>1663502532</td>\n",
              "      <td>...</td>\n",
              "      <td>False</td>\n",
              "      <td>False</td>\n",
              "      <td>False</td>\n",
              "      <td>False</td>\n",
              "      <td>True</td>\n",
              "      <td>False</td>\n",
              "      <td>True</td>\n",
              "      <td>False</td>\n",
              "      <td>True</td>\n",
              "      <td>False</td>\n",
              "    </tr>\n",
              "    <tr>\n",
              "      <th>...</th>\n",
              "      <td>...</td>\n",
              "      <td>...</td>\n",
              "      <td>...</td>\n",
              "      <td>...</td>\n",
              "      <td>...</td>\n",
              "      <td>...</td>\n",
              "      <td>...</td>\n",
              "      <td>...</td>\n",
              "      <td>...</td>\n",
              "      <td>...</td>\n",
              "      <td>...</td>\n",
              "      <td>...</td>\n",
              "      <td>...</td>\n",
              "      <td>...</td>\n",
              "      <td>...</td>\n",
              "      <td>...</td>\n",
              "      <td>...</td>\n",
              "      <td>...</td>\n",
              "      <td>...</td>\n",
              "      <td>...</td>\n",
              "      <td>...</td>\n",
              "    </tr>\n",
              "    <tr>\n",
              "      <th>152191</th>\n",
              "      <td>0</td>\n",
              "      <td>0</td>\n",
              "      <td>0</td>\n",
              "      <td>0</td>\n",
              "      <td>0</td>\n",
              "      <td>0</td>\n",
              "      <td>0</td>\n",
              "      <td>0</td>\n",
              "      <td>0</td>\n",
              "      <td>0</td>\n",
              "      <td>...</td>\n",
              "      <td>False</td>\n",
              "      <td>False</td>\n",
              "      <td>False</td>\n",
              "      <td>False</td>\n",
              "      <td>True</td>\n",
              "      <td>False</td>\n",
              "      <td>True</td>\n",
              "      <td>False</td>\n",
              "      <td>True</td>\n",
              "      <td>False</td>\n",
              "    </tr>\n",
              "    <tr>\n",
              "      <th>152192</th>\n",
              "      <td>0</td>\n",
              "      <td>0</td>\n",
              "      <td>19927</td>\n",
              "      <td>0</td>\n",
              "      <td>0</td>\n",
              "      <td>0</td>\n",
              "      <td>0</td>\n",
              "      <td>0</td>\n",
              "      <td>0</td>\n",
              "      <td>0</td>\n",
              "      <td>...</td>\n",
              "      <td>False</td>\n",
              "      <td>False</td>\n",
              "      <td>False</td>\n",
              "      <td>False</td>\n",
              "      <td>True</td>\n",
              "      <td>False</td>\n",
              "      <td>True</td>\n",
              "      <td>False</td>\n",
              "      <td>True</td>\n",
              "      <td>False</td>\n",
              "    </tr>\n",
              "    <tr>\n",
              "      <th>152193</th>\n",
              "      <td>0</td>\n",
              "      <td>0</td>\n",
              "      <td>0</td>\n",
              "      <td>0</td>\n",
              "      <td>0</td>\n",
              "      <td>0</td>\n",
              "      <td>0</td>\n",
              "      <td>0</td>\n",
              "      <td>629</td>\n",
              "      <td>1447759831</td>\n",
              "      <td>...</td>\n",
              "      <td>False</td>\n",
              "      <td>False</td>\n",
              "      <td>False</td>\n",
              "      <td>False</td>\n",
              "      <td>True</td>\n",
              "      <td>False</td>\n",
              "      <td>True</td>\n",
              "      <td>False</td>\n",
              "      <td>True</td>\n",
              "      <td>False</td>\n",
              "    </tr>\n",
              "    <tr>\n",
              "      <th>152194</th>\n",
              "      <td>0</td>\n",
              "      <td>0</td>\n",
              "      <td>0</td>\n",
              "      <td>0</td>\n",
              "      <td>0</td>\n",
              "      <td>0</td>\n",
              "      <td>0</td>\n",
              "      <td>0</td>\n",
              "      <td>0</td>\n",
              "      <td>0</td>\n",
              "      <td>...</td>\n",
              "      <td>False</td>\n",
              "      <td>False</td>\n",
              "      <td>False</td>\n",
              "      <td>False</td>\n",
              "      <td>True</td>\n",
              "      <td>False</td>\n",
              "      <td>True</td>\n",
              "      <td>False</td>\n",
              "      <td>True</td>\n",
              "      <td>False</td>\n",
              "    </tr>\n",
              "    <tr>\n",
              "      <th>152195</th>\n",
              "      <td>0</td>\n",
              "      <td>0</td>\n",
              "      <td>0</td>\n",
              "      <td>0</td>\n",
              "      <td>0</td>\n",
              "      <td>0</td>\n",
              "      <td>0</td>\n",
              "      <td>0</td>\n",
              "      <td>0</td>\n",
              "      <td>0</td>\n",
              "      <td>...</td>\n",
              "      <td>False</td>\n",
              "      <td>False</td>\n",
              "      <td>False</td>\n",
              "      <td>False</td>\n",
              "      <td>True</td>\n",
              "      <td>False</td>\n",
              "      <td>True</td>\n",
              "      <td>False</td>\n",
              "      <td>True</td>\n",
              "      <td>False</td>\n",
              "    </tr>\n",
              "  </tbody>\n",
              "</table>\n",
              "<p>152196 rows × 69 columns</p>\n",
              "</div>"
            ],
            "text/plain": [
              "        arp.opcode  arp.hw.size  icmp.checksum  icmp.seq_le  icmp.unused  \\\n",
              "0                0            0              0            0            0   \n",
              "1                0            0              0            0            0   \n",
              "2                0            0          29205        58174            0   \n",
              "3                0            0              0            0            0   \n",
              "4                0            0              0            0            0   \n",
              "...            ...          ...            ...          ...          ...   \n",
              "152191           0            0              0            0            0   \n",
              "152192           0            0          19927            0            0   \n",
              "152193           0            0              0            0            0   \n",
              "152194           0            0              0            0            0   \n",
              "152195           0            0              0            0            0   \n",
              "\n",
              "        http.content_length  http.response  http.tls_port  tcp.ack  \\\n",
              "0                         0              0              0        0   \n",
              "1                         0              0              0        0   \n",
              "2                         0              0              0        0   \n",
              "3                         0              0              0        1   \n",
              "4                        47              0              0    35642   \n",
              "...                     ...            ...            ...      ...   \n",
              "152191                    0              0              0        0   \n",
              "152192                    0              0              0        0   \n",
              "152193                    0              0              0      629   \n",
              "152194                    0              0              0        0   \n",
              "152195                    0              0              0        0   \n",
              "\n",
              "        tcp.ack_raw  ...  dns.qry.name.len-1.debian.pool.ntp.org  \\\n",
              "0                 0  ...                                   False   \n",
              "1                 0  ...                                   False   \n",
              "2                 0  ...                                   False   \n",
              "3        2332812476  ...                                   False   \n",
              "4        1663502532  ...                                   False   \n",
              "...             ...  ...                                     ...   \n",
              "152191            0  ...                                   False   \n",
              "152192            0  ...                                   False   \n",
              "152193   1447759831  ...                                   False   \n",
              "152194            0  ...                                   False   \n",
              "152195            0  ...                                   False   \n",
              "\n",
              "        dns.qry.name.len-2.debian.pool.ntp.org  \\\n",
              "0                                        False   \n",
              "1                                        False   \n",
              "2                                        False   \n",
              "3                                        False   \n",
              "4                                        False   \n",
              "...                                        ...   \n",
              "152191                                   False   \n",
              "152192                                   False   \n",
              "152193                                   False   \n",
              "152194                                   False   \n",
              "152195                                   False   \n",
              "\n",
              "        dns.qry.name.len-3.debian.pool.ntp.org  \\\n",
              "0                                        False   \n",
              "1                                        False   \n",
              "2                                        False   \n",
              "3                                        False   \n",
              "4                                        False   \n",
              "...                                        ...   \n",
              "152191                                   False   \n",
              "152192                                   False   \n",
              "152193                                   False   \n",
              "152194                                   False   \n",
              "152195                                   False   \n",
              "\n",
              "        dns.qry.name.len-_googlecast._tcp.local  mqtt.conack.flags-0  \\\n",
              "0                                         False                 True   \n",
              "1                                         False                 True   \n",
              "2                                         False                 True   \n",
              "3                                         False                 True   \n",
              "4                                         False                 True   \n",
              "...                                         ...                  ...   \n",
              "152191                                    False                 True   \n",
              "152192                                    False                 True   \n",
              "152193                                    False                 True   \n",
              "152194                                    False                 True   \n",
              "152195                                    False                 True   \n",
              "\n",
              "        mqtt.conack.flags-0x00000000  mqtt.protoname-0  mqtt.protoname-MQTT  \\\n",
              "0                              False              True                False   \n",
              "1                              False              True                False   \n",
              "2                              False              True                False   \n",
              "3                              False              True                False   \n",
              "4                              False              True                False   \n",
              "...                              ...               ...                  ...   \n",
              "152191                         False              True                False   \n",
              "152192                         False              True                False   \n",
              "152193                         False              True                False   \n",
              "152194                         False              True                False   \n",
              "152195                         False              True                False   \n",
              "\n",
              "        mqtt.topic-0  mqtt.topic-Temperature_and_Humidity  \n",
              "0               True                                False  \n",
              "1               True                                False  \n",
              "2               True                                False  \n",
              "3               True                                False  \n",
              "4               True                                False  \n",
              "...              ...                                  ...  \n",
              "152191          True                                False  \n",
              "152192          True                                False  \n",
              "152193          True                                False  \n",
              "152194          True                                False  \n",
              "152195          True                                False  \n",
              "\n",
              "[152196 rows x 69 columns]"
            ]
          },
          "execution_count": 10,
          "metadata": {},
          "output_type": "execute_result"
        }
      ],
      "source": [
        "import pandas as pd\n",
        "import numpy as np\n",
        "from matplotlib import pyplot as plt\n",
        "import seaborn as sns\n",
        "df = pd.read_csv('./preprocessed_DNN.csv', low_memory=False)\n",
        "df"
      ]
    },
    {
      "cell_type": "code",
      "execution_count": 11,
      "metadata": {
        "colab": {
          "base_uri": "https://localhost:8080/",
          "height": 585
        },
        "id": "HxF0GieLxDFe",
        "outputId": "74ead31f-c20f-44b4-9bd9-9f24b7d6762e"
      },
      "outputs": [
        {
          "data": {
            "text/plain": [
              "Attack_type\n",
              "Normal                   24101\n",
              "DDoS_UDP                 14498\n",
              "DDoS_ICMP                13096\n",
              "DDoS_HTTP                10495\n",
              "SQL_injection            10282\n",
              "DDoS_TCP                 10247\n",
              "Uploading                10214\n",
              "Vulnerability_scanner    10062\n",
              "Password                  9972\n",
              "Backdoor                  9865\n",
              "Ransomware                9689\n",
              "XSS                       9543\n",
              "Port_Scanning             8921\n",
              "Fingerprinting             853\n",
              "MITM                       358\n",
              "Name: count, dtype: int64"
            ]
          },
          "execution_count": 11,
          "metadata": {},
          "output_type": "execute_result"
        }
      ],
      "source": [
        "df['Attack_type'].value_counts()"
      ]
    },
    {
      "cell_type": "code",
      "execution_count": 12,
      "metadata": {
        "id": "18mcd2cmxFM-"
      },
      "outputs": [],
      "source": [
        "feat_cols = list(df.columns)\n",
        "label_col = \"Attack_type\"\n",
        "\n",
        "feat_cols.remove(label_col)"
      ]
    },
    {
      "cell_type": "code",
      "execution_count": 13,
      "metadata": {
        "colab": {
          "base_uri": "https://localhost:8080/"
        },
        "id": "DJCHwbvdxO56",
        "outputId": "7e6441f0-8b0f-48ce-ba20-25338ec81176"
      },
      "outputs": [
        {
          "data": {
            "text/plain": [
              "[]"
            ]
          },
          "execution_count": 13,
          "metadata": {},
          "output_type": "execute_result"
        }
      ],
      "source": [
        "empty_cols = [col for col in df.columns if df[col].isnull().all()]\n",
        "empty_cols"
      ]
    },
    {
      "cell_type": "code",
      "execution_count": 14,
      "metadata": {
        "id": "wuwVE0tRxSif"
      },
      "outputs": [],
      "source": [
        "skip_list = [\"icmp.unused\", \"http.tls_port\", \"dns.qry.type\", \"mqtt.msg_decoded_as\"]"
      ]
    },
    {
      "cell_type": "code",
      "execution_count": 15,
      "metadata": {
        "colab": {
          "base_uri": "https://localhost:8080/",
          "height": 146
        },
        "id": "xkd3q6MzxbvX",
        "outputId": "60edf627-00c8-4fee-e748-ea0764a4007e"
      },
      "outputs": [
        {
          "data": {
            "text/plain": [
              "mqtt.msg_decoded_as\n",
              "0    152196\n",
              "Name: count, dtype: int64"
            ]
          },
          "execution_count": 15,
          "metadata": {},
          "output_type": "execute_result"
        }
      ],
      "source": [
        "df[skip_list[3]].value_counts()"
      ]
    },
    {
      "cell_type": "code",
      "execution_count": 16,
      "metadata": {
        "colab": {
          "base_uri": "https://localhost:8080/",
          "height": 581
        },
        "id": "LPGRiUvUxeIs",
        "outputId": "ca40e551-ffe3-429f-b65f-9e1683c69f9c"
      },
      "outputs": [
        {
          "data": {
            "image/png": "[encoded data removed]",
            "text/plain": [
              "<Figure size 1200x800 with 2 Axes>"
            ]
          },
          "metadata": {},
          "output_type": "display_data"
        }
      ],
      "source": [
        "fig, (ax1, ax2)  = plt.subplots(nrows=1, ncols=2, figsize=(12,8))\n",
        "explode = list((np.array(list(df[label_col].dropna().value_counts()))/sum(list(df[label_col].dropna().value_counts())))[::-1])[:]\n",
        "labels = list(df[label_col].dropna().unique())[:]\n",
        "sizes = df[label_col].value_counts()[:]\n",
        "\n",
        "ax2.pie(sizes,  explode=explode, startangle=60, labels=labels, autopct='%1.0f%%', pctdistance=0.8)\n",
        "ax2.add_artist(plt.Circle((0,0),0.4,fc='white'))\n",
        "sns.countplot(y=label_col, data=df, ax=ax1)\n",
        "ax1.set_title(\"Count of each Attack type\")\n",
        "ax2.set_title(\"Percentage of each Attack type\")\n",
        "plt.show()"
      ]
    },
    {
      "cell_type": "code",
      "execution_count": 17,
      "metadata": {
        "id": "sbkpDUVex0cO"
      },
      "outputs": [],
      "source": [
        "X = df.drop([label_col], axis=1)\n",
        "y = df[label_col]"
      ]
    },
    {
      "cell_type": "code",
      "execution_count": 18,
      "metadata": {
        "id": "h6dSY46Rx3Qf"
      },
      "outputs": [],
      "source": [
        "from sklearn.model_selection import train_test_split\n",
        "\n",
        "X_train, X_test, y_train, y_test = train_test_split(X, y, test_size=0.2, random_state=1, stratify=y)\n",
        "\n",
        "del X\n",
        "del y"
      ]
    },
    {
      "cell_type": "code",
      "execution_count": 19,
      "metadata": {
        "id": "wRdPppbYx65M"
      },
      "outputs": [],
      "source": [
        "from sklearn.preprocessing import LabelEncoder\n",
        "\n",
        "\n",
        "label_encoder = LabelEncoder()\n",
        "y_train =  label_encoder.fit_transform(y_train)\n",
        "y_test = label_encoder.transform(y_test)"
      ]
    },
    {
      "cell_type": "code",
      "execution_count": 20,
      "metadata": {
        "id": "817PEoHqx9r0"
      },
      "outputs": [],
      "source": [
        "from sklearn.preprocessing import MinMaxScaler\n",
        "\n",
        "min_max_scaler = MinMaxScaler()\n",
        "X_train =  min_max_scaler.fit_transform(X_train)\n",
        "X_test = min_max_scaler.transform(X_test)"
      ]
    },
    {
      "cell_type": "code",
      "execution_count": 21,
      "metadata": {
        "id": "bqtH-fkZyEq5"
      },
      "outputs": [],
      "source": [
        "X_train = X_train.reshape(X_train.shape[0], X_train.shape[1], 1)\n",
        "X_test = X_test.reshape(X_test.shape[0], X_test.shape[1], 1)"
      ]
    },
    {
      "cell_type": "code",
      "execution_count": 22,
      "metadata": {
        "colab": {
          "base_uri": "https://localhost:8080/"
        },
        "id": "KCP6KxN5yHAF",
        "outputId": "4a0f9720-9323-4ccc-c7f8-d47da053c83e"
      },
      "outputs": [
        {
          "name": "stdout",
          "output_type": "stream",
          "text": [
            "(121756, 68, 1)\n",
            "(30440, 68, 1)\n"
          ]
        }
      ],
      "source": [
        "print(X_train.shape)\n",
        "print(X_test.shape)"
      ]
    },
    {
      "cell_type": "code",
      "execution_count": 23,
      "metadata": {
        "id": "LT_OP50zyRUg"
      },
      "outputs": [],
      "source": [
        "input_shape = X_train.shape[1:]"
      ]
    },
    {
      "cell_type": "code",
      "execution_count": 24,
      "metadata": {
        "colab": {
          "base_uri": "https://localhost:8080/"
        },
        "id": "bhLGxILdyXhl",
        "outputId": "6d3a6ada-1fc0-4b7e-a8ce-b09f5dfe8646"
      },
      "outputs": [
        {
          "name": "stdout",
          "output_type": "stream",
          "text": [
            "(121756, 68, 1) (30440, 68, 1)\n",
            "(68, 1)\n"
          ]
        }
      ],
      "source": [
        "print(X_train.shape, X_test.shape)\n",
        "print(input_shape)"
      ]
    },
    {
      "cell_type": "code",
      "execution_count": 25,
      "metadata": {
        "colab": {
          "base_uri": "https://localhost:8080/"
        },
        "id": "pcu0TJAKykik",
        "outputId": "5f60508e-8de1-47c9-bf47-4e82afeaa2ef"
      },
      "outputs": [
        {
          "data": {
            "text/plain": [
              "15"
            ]
          },
          "execution_count": 25,
          "metadata": {},
          "output_type": "execute_result"
        }
      ],
      "source": [
        "num_classes = len(np.unique(y_train))\n",
        "num_classes = 15\n",
        "num_classes"
      ]
    },
    {
      "cell_type": "code",
      "execution_count": 26,
      "metadata": {
        "id": "Hdx__HZcyeIx"
      },
      "outputs": [
        {
          "name": "stderr",
          "output_type": "stream",
          "text": [
            "2025-07-04 13:49:43.094369: I tensorflow/core/util/port.cc:113] oneDNN custom operations are on. You may see slightly different numerical results due to floating-point round-off errors from different computation orders. To turn them off, set the environment variable `TF_ENABLE_ONEDNN_OPTS=0`.\n",
            "2025-07-04 13:49:43.095884: I external/local_tsl/tsl/cuda/cudart_stub.cc:31] Could not find cuda drivers on your machine, GPU will not be used.\n",
            "2025-07-04 13:49:43.113209: E external/local_xla/xla/stream_executor/cuda/cuda_dnn.cc:9261] Unable to register cuDNN factory: Attempting to register factory for plugin cuDNN when one has already been registered\n",
            "2025-07-04 13:49:43.113234: E external/local_xla/xla/stream_executor/cuda/cuda_fft.cc:607] Unable to register cuFFT factory: Attempting to register factory for plugin cuFFT when one has already been registered\n",
            "2025-07-04 13:49:43.113837: E external/local_xla/xla/stream_executor/cuda/cuda_blas.cc:1515] Unable to register cuBLAS factory: Attempting to register factory for plugin cuBLAS when one has already been registered\n",
            "2025-07-04 13:49:43.116999: I external/local_tsl/tsl/cuda/cudart_stub.cc:31] Could not find cuda drivers on your machine, GPU will not be used.\n",
            "2025-07-04 13:49:43.117376: I tensorflow/core/platform/cpu_feature_guard.cc:182] This TensorFlow binary is optimized to use available CPU instructions in performance-critical operations.\n",
            "To enable the following instructions: AVX2 AVX_VNNI FMA, in other operations, rebuild TensorFlow with the appropriate compiler flags.\n",
            "2025-07-04 13:49:44.345779: W tensorflow/compiler/tf2tensorrt/utils/py_utils.cc:38] TF-TRT Warning: Could not find TensorRT\n"
          ]
        }
      ],
      "source": [
        "from  tensorflow.keras.utils import to_categorical\n",
        "\n",
        "y_train = to_categorical(y_train, num_classes=num_classes)\n",
        "y_test = to_categorical(y_test, num_classes=num_classes)"
      ]
    },
    {
      "cell_type": "code",
      "execution_count": null,
      "metadata": {
        "id": "22G0ORLWJpV-"
      },
      "outputs": [],
      "source": []
    },
    {
      "cell_type": "code",
      "execution_count": 27,
      "metadata": {
        "colab": {
          "base_uri": "https://localhost:8080/"
        },
        "id": "jwovWWWCyoQ0",
        "outputId": "8a9941b5-9f08-4be2-fc99-8399df1f6f85"
      },
      "outputs": [
        {
          "name": "stdout",
          "output_type": "stream",
          "text": [
            "(121756, 15) (30440, 15)\n"
          ]
        }
      ],
      "source": [
        "print(y_train.shape, y_test.shape)"
      ]
    },
    {
      "cell_type": "markdown",
      "metadata": {
        "id": "j23wbSbGyXnl"
      },
      "source": []
    },
    {
      "cell_type": "code",
      "execution_count": 28,
      "metadata": {
        "colab": {
          "base_uri": "https://localhost:8080/",
          "height": 490
        },
        "id": "jWUzqBvYzXJT",
        "outputId": "0c4d289a-9231-420d-d911-c6e98999685a"
      },
      "outputs": [
        {
          "name": "stdout",
          "output_type": "stream",
          "text": [
            "Model: \"sequential\"\n",
            "_________________________________________________________________\n",
            " Layer (type)                Output Shape              Param #   \n",
            "=================================================================\n",
            " conv1d (Conv1D)             (None, 66, 32)            128       \n",
            "                                                                 \n",
            " max_pooling1d (MaxPooling1  (None, 33, 32)            0         \n",
            " D)                                                              \n",
            "                                                                 \n",
            " conv1d_1 (Conv1D)           (None, 31, 64)            6208      \n",
            "                                                                 \n",
            " max_pooling1d_1 (MaxPoolin  (None, 15, 64)            0         \n",
            " g1D)                                                            \n",
            "                                                                 \n",
            " conv1d_2 (Conv1D)           (None, 13, 128)           24704     \n",
            "                                                                 \n",
            " max_pooling1d_2 (MaxPoolin  (None, 6, 128)            0         \n",
            " g1D)                                                            \n",
            "                                                                 \n",
            " flatten (Flatten)           (None, 768)               0         \n",
            "                                                                 \n",
            " dense (Dense)               (None, 64)                49216     \n",
            "                                                                 \n",
            " dense_1 (Dense)             (None, 15)                975       \n",
            "                                                                 \n",
            "=================================================================\n",
            "Total params: 81231 (317.31 KB)\n",
            "Trainable params: 81231 (317.31 KB)\n",
            "Non-trainable params: 0 (0.00 Byte)\n",
            "_________________________________________________________________\n"
          ]
        }
      ],
      "source": [
        "from tensorflow.keras.models import Sequential\n",
        "from tensorflow.keras.layers import Conv1D, MaxPooling1D, Flatten, Dense\n",
        "\n",
        "model = Sequential()\n",
        "model.add(Conv1D(32, 3, activation='relu', input_shape=(input_shape[0], 1)))\n",
        "model.add(MaxPooling1D(2))\n",
        "# model.add(Conv1D(64, 3, activation='relu', input_shape=(input_shape)))\n",
        "# model.add(MaxPooling1D(2))\n",
        "# model.add(Conv1D(64, 3, activation='relu', input_shape=(input_shape)))\n",
        "# model.add(MaxPooling1D(2))\n",
        "model.add(Conv1D(64, 3, activation='relu'))\n",
        "model.add(MaxPooling1D(2))\n",
        "model.add(Conv1D(128, 3, activation='relu'))\n",
        "model.add(MaxPooling1D(2))\n",
        "model.add(Flatten())\n",
        "model.add(Dense(64, activation='relu'))\n",
        "model.add(Dense(num_classes, activation='softmax'))\n",
        "\n",
        "model.summary()"
      ]
    },
    {
      "cell_type": "code",
      "execution_count": 29,
      "metadata": {
        "id": "p9vt50rDzdrl"
      },
      "outputs": [],
      "source": [
        "from tensorflow.keras.datasets import mnist\n",
        "from tensorflow.keras.utils import to_categorical\n",
        "from tensorflow.keras.models import Sequential\n",
        "from tensorflow.keras.layers import Conv1D, Input, ZeroPadding1D\n",
        "from tensorflow.keras.layers import MaxPooling1D, Add, AveragePooling1D\n",
        "from tensorflow.keras.layers import Dense, BatchNormalization, Activation\n",
        "from tensorflow.keras.layers import Flatten\n",
        "from tensorflow.keras.models import Model\n",
        "from keras.initializers import glorot_uniform\n",
        "import keras.backend as K\n",
        "import tensorflow as tf\n",
        "from tensorflow.keras.optimizers import Adam#input the model before this cell\n",
        "#model = build_model(num_classes, input_shape=input_shape)\n",
        "opt = Adam(learning_rate=0.001)\n",
        "model.compile(optimizer=opt, loss= tf.keras.metrics.categorical_crossentropy,\n",
        "                  metrics=['accuracy'])"
      ]
    },
    {
      "cell_type": "code",
      "execution_count": 30,
      "metadata": {
        "colab": {
          "base_uri": "https://localhost:8080/"
        },
        "id": "S7xJU-Y8ztOS",
        "outputId": "dc806702-9e4d-45a8-e79d-f53386d0372f"
      },
      "outputs": [
        {
          "name": "stdout",
          "output_type": "stream",
          "text": [
            "Epoch 1/15\n",
            "476/476 [==============================] - 3s 5ms/step - loss: 1.2148 - accuracy: 0.5394 - val_loss: 1.0169 - val_accuracy: 0.5887 - lr: 0.0010\n",
            "Epoch 2/15\n",
            "476/476 [==============================] - 2s 4ms/step - loss: 0.9675 - accuracy: 0.6002 - val_loss: 0.9342 - val_accuracy: 0.6056 - lr: 0.0010\n",
            "Epoch 3/15\n",
            "476/476 [==============================] - 2s 4ms/step - loss: 0.9220 - accuracy: 0.6145 - val_loss: 0.9109 - val_accuracy: 0.6356 - lr: 0.0010\n",
            "Epoch 4/15\n",
            "476/476 [==============================] - 2s 4ms/step - loss: 0.8990 - accuracy: 0.6297 - val_loss: 0.8854 - val_accuracy: 0.6551 - lr: 0.0010\n",
            "Epoch 5/15\n",
            "476/476 [==============================] - 2s 4ms/step - loss: 0.8766 - accuracy: 0.6509 - val_loss: 0.8806 - val_accuracy: 0.6384 - lr: 0.0010\n",
            "Epoch 6/15\n",
            "476/476 [==============================] - 2s 4ms/step - loss: 0.8547 - accuracy: 0.6635 - val_loss: 0.8568 - val_accuracy: 0.6616 - lr: 0.0010\n",
            "Epoch 7/15\n",
            "476/476 [==============================] - 2s 4ms/step - loss: 0.8336 - accuracy: 0.6671 - val_loss: 0.8478 - val_accuracy: 0.6723 - lr: 0.0010\n",
            "Epoch 8/15\n",
            "476/476 [==============================] - 2s 4ms/step - loss: 0.8171 - accuracy: 0.6708 - val_loss: 0.8268 - val_accuracy: 0.6754 - lr: 0.0010\n",
            "Epoch 9/15\n",
            "476/476 [==============================] - 2s 4ms/step - loss: 0.7979 - accuracy: 0.6744 - val_loss: 0.8025 - val_accuracy: 0.6717 - lr: 0.0010\n",
            "Epoch 10/15\n",
            "476/476 [==============================] - 2s 4ms/step - loss: 0.7900 - accuracy: 0.6782 - val_loss: 0.7976 - val_accuracy: 0.6768 - lr: 0.0010\n",
            "Epoch 11/15\n",
            "476/476 [==============================] - 2s 4ms/step - loss: 0.7806 - accuracy: 0.6791 - val_loss: 0.7777 - val_accuracy: 0.6833 - lr: 0.0010\n",
            "Epoch 12/15\n",
            "476/476 [==============================] - 2s 4ms/step - loss: 0.7724 - accuracy: 0.6822 - val_loss: 0.7750 - val_accuracy: 0.6851 - lr: 0.0010\n",
            "Epoch 13/15\n",
            "476/476 [==============================] - 2s 4ms/step - loss: 0.7649 - accuracy: 0.6817 - val_loss: 0.7719 - val_accuracy: 0.6771 - lr: 0.0010\n",
            "Epoch 14/15\n",
            "476/476 [==============================] - 2s 4ms/step - loss: 0.7566 - accuracy: 0.6850 - val_loss: 0.7603 - val_accuracy: 0.6782 - lr: 0.0010\n",
            "Epoch 15/15\n",
            "476/476 [==============================] - 2s 4ms/step - loss: 0.7460 - accuracy: 0.6866 - val_loss: 0.7376 - val_accuracy: 0.6934 - lr: 0.0010\n"
          ]
        }
      ],
      "source": [
        "from keras.callbacks import ModelCheckpoint, EarlyStopping, ReduceLROnPlateau\n",
        "#from livelossplot import PlotLossesKeras\n",
        "\n",
        "\n",
        "#model_weights_file_path = \"model_best_weights.h5\"\n",
        "#checkpoint = ModelCheckpoint(filepath=model_weights_file_path, monitor=\"val_loss\", verbose=1, save_best_only=True, mode=\"min\", save_weights_only=True)\n",
        "#checkpoint = ModelCheckpoint(filepath=model_weights_file_path, monitor=\"val_loss\", verbose=1, save_best_only=True, mode=\"min\", save_weights_only=True)\n",
        "early_stopping = EarlyStopping(monitor=\"val_loss\", mode=\"min\", verbose=1, patience=10)\n",
        "lr_reduce = ReduceLROnPlateau(monitor='val_loss', factor=0.5, patience=5, mode=\"min\", verbose=1, min_lr=0)\n",
        "#plotlosses = PlotLossesKeras()\n",
        "call_backs = [ early_stopping, lr_reduce]\n",
        "EPOCHS = 15\n",
        "BATCH_SIZE = 256\n",
        "call_backs = [early_stopping, lr_reduce]\n",
        "history = model.fit(X_train, y_train,\n",
        "                    validation_data=(X_test, y_test),\n",
        "                    validation_split=0.1,\n",
        "                    epochs=EPOCHS,\n",
        "                    batch_size=BATCH_SIZE,\n",
        "                    callbacks=call_backs,\n",
        "                    #class_weight=class_weights,\n",
        "                    verbose=1)"
      ]
    }
  ],
  "metadata": {
    "colab": {
      "provenance": []
    },
    "kernelspec": {
      "display_name": "base",
      "language": "python",
      "name": "python3"
    },
    "language_info": {
      "codemirror_mode": {
        "name": "ipython",
        "version": 3
      },
      "file_extension": ".py",
      "mimetype": "text/x-python",
      "name": "python",
      "nbconvert_exporter": "python",
      "pygments_lexer": "ipython3",
      "version": "3.11.5"
    }
  },
  "nbformat": 4,
  "nbformat_minor": 0
}
