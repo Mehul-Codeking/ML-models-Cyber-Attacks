{
  "cells": [
    {
      "cell_type": "code",
      "execution_count": 3,
      "metadata": {
        "id": "JMTUcH42vuPF"
      },
      "outputs": [],
      "source": [
        "import pandas as pd\n",
        "import numpy as np\n",
        "\n",
        "df = pd.read_csv('Edge-2 IoT Dataset.csv', low_memory=False)"
      ]
    },
    {
      "cell_type": "code",
      "execution_count": 4,
      "metadata": {
        "colab": {
          "base_uri": "https://localhost:8080/"
        },
        "id": "MXHKJbiiwlaI",
        "outputId": "b30db970-3084-445a-a02b-e183e5afb6e6"
      },
      "outputs": [
        {
          "name": "stdout",
          "output_type": "stream",
          "text": [
            "Attack_type\n",
            "Normal                   24101\n",
            "DDoS_UDP                 14498\n",
            "DDoS_ICMP                13096\n",
            "DDoS_HTTP                10495\n",
            "SQL_injection            10282\n",
            "DDoS_TCP                 10247\n",
            "Uploading                10214\n",
            "Vulnerability_scanner    10062\n",
            "Password                  9972\n",
            "Backdoor                  9865\n",
            "Ransomware                9689\n",
            "XSS                       9543\n",
            "Port_Scanning             8921\n",
            "Fingerprinting             853\n",
            "MITM                       358\n",
            "Name: count, dtype: int64\n"
          ]
        }
      ],
      "source": [
        "from sklearn.utils import shuffle\n",
        "drop_columns = [\"frame.time\", \"ip.src_host\", \"ip.dst_host\", \"arp.src.proto_ipv4\",\"arp.dst.proto_ipv4\",\n",
        "                \"http.file_data\",\"http.request.full_uri\",\"icmp.transmit_timestamp\",\n",
        "                \"http.request.uri.query\", \"tcp.options\",\"tcp.payload\",\"tcp.srcport\",\n",
        "                \"tcp.dstport\", \"udp.port\", \"mqtt.msg\"]\n",
        "\n",
        "df.drop(drop_columns, axis=1, inplace=True)\n",
        "df.dropna(axis=0, how='any', inplace=True)\n",
        "df.drop_duplicates(subset=None, keep=\"first\", inplace=True)\n",
        "df = shuffle(df)\n",
        "df.isna().sum()\n",
        "print(df['Attack_type'].value_counts())"
      ]
    },
    {
      "cell_type": "code",
      "execution_count": 5,
      "metadata": {
        "id": "lunIK_HnwrXP"
      },
      "outputs": [],
      "source": [
        "import numpy as np\n",
        "from sklearn.model_selection import train_test_split\n",
        "from sklearn.preprocessing import StandardScaler\n",
        "from sklearn import preprocessing\n",
        "\n",
        "def encode_text_dummy(df, name):\n",
        "    dummies = pd.get_dummies(df[name])\n",
        "    for x in dummies.columns:\n",
        "        dummy_name = f\"{name}-{x}\"\n",
        "        df[dummy_name] = dummies[x]\n",
        "    df.drop(name, axis=1, inplace=True)\n",
        "\n",
        "encode_text_dummy(df,'http.request.method')\n",
        "encode_text_dummy(df,'http.referer')\n",
        "encode_text_dummy(df,\"http.request.version\")\n",
        "encode_text_dummy(df,\"dns.qry.name.len\")\n",
        "encode_text_dummy(df,\"mqtt.conack.flags\")\n",
        "encode_text_dummy(df,\"mqtt.protoname\")\n",
        "encode_text_dummy(df,\"mqtt.topic\")"
      ]
    },
    {
      "cell_type": "code",
      "execution_count": 6,
      "metadata": {
        "id": "IISlj9Yiw0mP"
      },
      "outputs": [],
      "source": [
        "df.to_csv('preprocessed_DNN.csv', encoding='utf-8', index=False)"
      ]
    },
    {
      "cell_type": "code",
      "execution_count": 7,
      "metadata": {
        "colab": {
          "base_uri": "https://localhost:8080/",
          "height": 461
        },
        "id": "TI3jovWAw4yn",
        "outputId": "45e82c71-c308-4555-82ab-05ebf2ae8154"
      },
      "outputs": [
        {
          "data": {
            "text/html": [
              "<div>\n",
              "<style scoped>\n",
              "    .dataframe tbody tr th:only-of-type {\n",
              "        vertical-align: middle;\n",
              "    }\n",
              "\n",
              "    .dataframe tbody tr th {\n",
              "        vertical-align: top;\n",
              "    }\n",
              "\n",
              "    .dataframe thead th {\n",
              "        text-align: right;\n",
              "    }\n",
              "</style>\n",
              "<table border=\"1\" class=\"dataframe\">\n",
              "  <thead>\n",
              "    <tr style=\"text-align: right;\">\n",
              "      <th></th>\n",
              "      <th>arp.opcode</th>\n",
              "      <th>arp.hw.size</th>\n",
              "      <th>icmp.checksum</th>\n",
              "      <th>icmp.seq_le</th>\n",
              "      <th>icmp.unused</th>\n",
              "      <th>http.content_length</th>\n",
              "      <th>http.response</th>\n",
              "      <th>http.tls_port</th>\n",
              "      <th>tcp.ack</th>\n",
              "      <th>tcp.ack_raw</th>\n",
              "      <th>...</th>\n",
              "      <th>dns.qry.name.len-1.debian.pool.ntp.org</th>\n",
              "      <th>dns.qry.name.len-2.debian.pool.ntp.org</th>\n",
              "      <th>dns.qry.name.len-3.debian.pool.ntp.org</th>\n",
              "      <th>dns.qry.name.len-_googlecast._tcp.local</th>\n",
              "      <th>mqtt.conack.flags-0</th>\n",
              "      <th>mqtt.conack.flags-0x00000000</th>\n",
              "      <th>mqtt.protoname-0</th>\n",
              "      <th>mqtt.protoname-MQTT</th>\n",
              "      <th>mqtt.topic-0</th>\n",
              "      <th>mqtt.topic-Temperature_and_Humidity</th>\n",
              "    </tr>\n",
              "  </thead>\n",
              "  <tbody>\n",
              "    <tr>\n",
              "      <th>0</th>\n",
              "      <td>0</td>\n",
              "      <td>0</td>\n",
              "      <td>0</td>\n",
              "      <td>0</td>\n",
              "      <td>0</td>\n",
              "      <td>0</td>\n",
              "      <td>0</td>\n",
              "      <td>0</td>\n",
              "      <td>1</td>\n",
              "      <td>894154677</td>\n",
              "      <td>...</td>\n",
              "      <td>False</td>\n",
              "      <td>False</td>\n",
              "      <td>False</td>\n",
              "      <td>False</td>\n",
              "      <td>True</td>\n",
              "      <td>False</td>\n",
              "      <td>True</td>\n",
              "      <td>False</td>\n",
              "      <td>True</td>\n",
              "      <td>False</td>\n",
              "    </tr>\n",
              "    <tr>\n",
              "      <th>1</th>\n",
              "      <td>0</td>\n",
              "      <td>0</td>\n",
              "      <td>0</td>\n",
              "      <td>0</td>\n",
              "      <td>0</td>\n",
              "      <td>0</td>\n",
              "      <td>0</td>\n",
              "      <td>0</td>\n",
              "      <td>150</td>\n",
              "      <td>4145727122</td>\n",
              "      <td>...</td>\n",
              "      <td>False</td>\n",
              "      <td>False</td>\n",
              "      <td>False</td>\n",
              "      <td>False</td>\n",
              "      <td>True</td>\n",
              "      <td>False</td>\n",
              "      <td>True</td>\n",
              "      <td>False</td>\n",
              "      <td>True</td>\n",
              "      <td>False</td>\n",
              "    </tr>\n",
              "    <tr>\n",
              "      <th>2</th>\n",
              "      <td>0</td>\n",
              "      <td>0</td>\n",
              "      <td>0</td>\n",
              "      <td>0</td>\n",
              "      <td>0</td>\n",
              "      <td>0</td>\n",
              "      <td>0</td>\n",
              "      <td>0</td>\n",
              "      <td>1</td>\n",
              "      <td>1824066985</td>\n",
              "      <td>...</td>\n",
              "      <td>False</td>\n",
              "      <td>False</td>\n",
              "      <td>False</td>\n",
              "      <td>False</td>\n",
              "      <td>True</td>\n",
              "      <td>False</td>\n",
              "      <td>True</td>\n",
              "      <td>False</td>\n",
              "      <td>True</td>\n",
              "      <td>False</td>\n",
              "    </tr>\n",
              "    <tr>\n",
              "      <th>3</th>\n",
              "      <td>0</td>\n",
              "      <td>0</td>\n",
              "      <td>0</td>\n",
              "      <td>0</td>\n",
              "      <td>0</td>\n",
              "      <td>0</td>\n",
              "      <td>0</td>\n",
              "      <td>0</td>\n",
              "      <td>488</td>\n",
              "      <td>948049949</td>\n",
              "      <td>...</td>\n",
              "      <td>False</td>\n",
              "      <td>False</td>\n",
              "      <td>False</td>\n",
              "      <td>False</td>\n",
              "      <td>True</td>\n",
              "      <td>False</td>\n",
              "      <td>True</td>\n",
              "      <td>False</td>\n",
              "      <td>True</td>\n",
              "      <td>False</td>\n",
              "    </tr>\n",
              "    <tr>\n",
              "      <th>4</th>\n",
              "      <td>0</td>\n",
              "      <td>0</td>\n",
              "      <td>0</td>\n",
              "      <td>0</td>\n",
              "      <td>0</td>\n",
              "      <td>0</td>\n",
              "      <td>0</td>\n",
              "      <td>0</td>\n",
              "      <td>394163003</td>\n",
              "      <td>394163003</td>\n",
              "      <td>...</td>\n",
              "      <td>False</td>\n",
              "      <td>False</td>\n",
              "      <td>False</td>\n",
              "      <td>False</td>\n",
              "      <td>True</td>\n",
              "      <td>False</td>\n",
              "      <td>True</td>\n",
              "      <td>False</td>\n",
              "      <td>True</td>\n",
              "      <td>False</td>\n",
              "    </tr>\n",
              "    <tr>\n",
              "      <th>...</th>\n",
              "      <td>...</td>\n",
              "      <td>...</td>\n",
              "      <td>...</td>\n",
              "      <td>...</td>\n",
              "      <td>...</td>\n",
              "      <td>...</td>\n",
              "      <td>...</td>\n",
              "      <td>...</td>\n",
              "      <td>...</td>\n",
              "      <td>...</td>\n",
              "      <td>...</td>\n",
              "      <td>...</td>\n",
              "      <td>...</td>\n",
              "      <td>...</td>\n",
              "      <td>...</td>\n",
              "      <td>...</td>\n",
              "      <td>...</td>\n",
              "      <td>...</td>\n",
              "      <td>...</td>\n",
              "      <td>...</td>\n",
              "      <td>...</td>\n",
              "    </tr>\n",
              "    <tr>\n",
              "      <th>152191</th>\n",
              "      <td>0</td>\n",
              "      <td>0</td>\n",
              "      <td>0</td>\n",
              "      <td>0</td>\n",
              "      <td>0</td>\n",
              "      <td>0</td>\n",
              "      <td>0</td>\n",
              "      <td>0</td>\n",
              "      <td>15</td>\n",
              "      <td>299727345</td>\n",
              "      <td>...</td>\n",
              "      <td>False</td>\n",
              "      <td>False</td>\n",
              "      <td>False</td>\n",
              "      <td>False</td>\n",
              "      <td>False</td>\n",
              "      <td>True</td>\n",
              "      <td>True</td>\n",
              "      <td>False</td>\n",
              "      <td>True</td>\n",
              "      <td>False</td>\n",
              "    </tr>\n",
              "    <tr>\n",
              "      <th>152192</th>\n",
              "      <td>0</td>\n",
              "      <td>0</td>\n",
              "      <td>0</td>\n",
              "      <td>0</td>\n",
              "      <td>0</td>\n",
              "      <td>0</td>\n",
              "      <td>0</td>\n",
              "      <td>0</td>\n",
              "      <td>668176649</td>\n",
              "      <td>668176649</td>\n",
              "      <td>...</td>\n",
              "      <td>False</td>\n",
              "      <td>False</td>\n",
              "      <td>False</td>\n",
              "      <td>False</td>\n",
              "      <td>True</td>\n",
              "      <td>False</td>\n",
              "      <td>True</td>\n",
              "      <td>False</td>\n",
              "      <td>True</td>\n",
              "      <td>False</td>\n",
              "    </tr>\n",
              "    <tr>\n",
              "      <th>152193</th>\n",
              "      <td>0</td>\n",
              "      <td>0</td>\n",
              "      <td>0</td>\n",
              "      <td>0</td>\n",
              "      <td>0</td>\n",
              "      <td>0</td>\n",
              "      <td>0</td>\n",
              "      <td>0</td>\n",
              "      <td>0</td>\n",
              "      <td>0</td>\n",
              "      <td>...</td>\n",
              "      <td>False</td>\n",
              "      <td>False</td>\n",
              "      <td>False</td>\n",
              "      <td>False</td>\n",
              "      <td>True</td>\n",
              "      <td>False</td>\n",
              "      <td>True</td>\n",
              "      <td>False</td>\n",
              "      <td>True</td>\n",
              "      <td>False</td>\n",
              "    </tr>\n",
              "    <tr>\n",
              "      <th>152194</th>\n",
              "      <td>0</td>\n",
              "      <td>0</td>\n",
              "      <td>0</td>\n",
              "      <td>0</td>\n",
              "      <td>0</td>\n",
              "      <td>0</td>\n",
              "      <td>0</td>\n",
              "      <td>0</td>\n",
              "      <td>1</td>\n",
              "      <td>2653264497</td>\n",
              "      <td>...</td>\n",
              "      <td>False</td>\n",
              "      <td>False</td>\n",
              "      <td>False</td>\n",
              "      <td>False</td>\n",
              "      <td>True</td>\n",
              "      <td>False</td>\n",
              "      <td>True</td>\n",
              "      <td>False</td>\n",
              "      <td>True</td>\n",
              "      <td>False</td>\n",
              "    </tr>\n",
              "    <tr>\n",
              "      <th>152195</th>\n",
              "      <td>0</td>\n",
              "      <td>0</td>\n",
              "      <td>0</td>\n",
              "      <td>0</td>\n",
              "      <td>0</td>\n",
              "      <td>0</td>\n",
              "      <td>0</td>\n",
              "      <td>0</td>\n",
              "      <td>1</td>\n",
              "      <td>2166445522</td>\n",
              "      <td>...</td>\n",
              "      <td>False</td>\n",
              "      <td>False</td>\n",
              "      <td>False</td>\n",
              "      <td>False</td>\n",
              "      <td>True</td>\n",
              "      <td>False</td>\n",
              "      <td>True</td>\n",
              "      <td>False</td>\n",
              "      <td>True</td>\n",
              "      <td>False</td>\n",
              "    </tr>\n",
              "  </tbody>\n",
              "</table>\n",
              "<p>152196 rows × 69 columns</p>\n",
              "</div>"
            ],
            "text/plain": [
              "        arp.opcode  arp.hw.size  icmp.checksum  icmp.seq_le  icmp.unused  \\\n",
              "0                0            0              0            0            0   \n",
              "1                0            0              0            0            0   \n",
              "2                0            0              0            0            0   \n",
              "3                0            0              0            0            0   \n",
              "4                0            0              0            0            0   \n",
              "...            ...          ...            ...          ...          ...   \n",
              "152191           0            0              0            0            0   \n",
              "152192           0            0              0            0            0   \n",
              "152193           0            0              0            0            0   \n",
              "152194           0            0              0            0            0   \n",
              "152195           0            0              0            0            0   \n",
              "\n",
              "        http.content_length  http.response  http.tls_port    tcp.ack  \\\n",
              "0                         0              0              0          1   \n",
              "1                         0              0              0        150   \n",
              "2                         0              0              0          1   \n",
              "3                         0              0              0        488   \n",
              "4                         0              0              0  394163003   \n",
              "...                     ...            ...            ...        ...   \n",
              "152191                    0              0              0         15   \n",
              "152192                    0              0              0  668176649   \n",
              "152193                    0              0              0          0   \n",
              "152194                    0              0              0          1   \n",
              "152195                    0              0              0          1   \n",
              "\n",
              "        tcp.ack_raw  ...  dns.qry.name.len-1.debian.pool.ntp.org  \\\n",
              "0         894154677  ...                                   False   \n",
              "1        4145727122  ...                                   False   \n",
              "2        1824066985  ...                                   False   \n",
              "3         948049949  ...                                   False   \n",
              "4         394163003  ...                                   False   \n",
              "...             ...  ...                                     ...   \n",
              "152191    299727345  ...                                   False   \n",
              "152192    668176649  ...                                   False   \n",
              "152193            0  ...                                   False   \n",
              "152194   2653264497  ...                                   False   \n",
              "152195   2166445522  ...                                   False   \n",
              "\n",
              "        dns.qry.name.len-2.debian.pool.ntp.org  \\\n",
              "0                                        False   \n",
              "1                                        False   \n",
              "2                                        False   \n",
              "3                                        False   \n",
              "4                                        False   \n",
              "...                                        ...   \n",
              "152191                                   False   \n",
              "152192                                   False   \n",
              "152193                                   False   \n",
              "152194                                   False   \n",
              "152195                                   False   \n",
              "\n",
              "        dns.qry.name.len-3.debian.pool.ntp.org  \\\n",
              "0                                        False   \n",
              "1                                        False   \n",
              "2                                        False   \n",
              "3                                        False   \n",
              "4                                        False   \n",
              "...                                        ...   \n",
              "152191                                   False   \n",
              "152192                                   False   \n",
              "152193                                   False   \n",
              "152194                                   False   \n",
              "152195                                   False   \n",
              "\n",
              "        dns.qry.name.len-_googlecast._tcp.local  mqtt.conack.flags-0  \\\n",
              "0                                         False                 True   \n",
              "1                                         False                 True   \n",
              "2                                         False                 True   \n",
              "3                                         False                 True   \n",
              "4                                         False                 True   \n",
              "...                                         ...                  ...   \n",
              "152191                                    False                False   \n",
              "152192                                    False                 True   \n",
              "152193                                    False                 True   \n",
              "152194                                    False                 True   \n",
              "152195                                    False                 True   \n",
              "\n",
              "        mqtt.conack.flags-0x00000000  mqtt.protoname-0  mqtt.protoname-MQTT  \\\n",
              "0                              False              True                False   \n",
              "1                              False              True                False   \n",
              "2                              False              True                False   \n",
              "3                              False              True                False   \n",
              "4                              False              True                False   \n",
              "...                              ...               ...                  ...   \n",
              "152191                          True              True                False   \n",
              "152192                         False              True                False   \n",
              "152193                         False              True                False   \n",
              "152194                         False              True                False   \n",
              "152195                         False              True                False   \n",
              "\n",
              "        mqtt.topic-0  mqtt.topic-Temperature_and_Humidity  \n",
              "0               True                                False  \n",
              "1               True                                False  \n",
              "2               True                                False  \n",
              "3               True                                False  \n",
              "4               True                                False  \n",
              "...              ...                                  ...  \n",
              "152191          True                                False  \n",
              "152192          True                                False  \n",
              "152193          True                                False  \n",
              "152194          True                                False  \n",
              "152195          True                                False  \n",
              "\n",
              "[152196 rows x 69 columns]"
            ]
          },
          "execution_count": 7,
          "metadata": {},
          "output_type": "execute_result"
        }
      ],
      "source": [
        "import pandas as pd\n",
        "import numpy as np\n",
        "from matplotlib import pyplot as plt\n",
        "import seaborn as sns\n",
        "df = pd.read_csv('./preprocessed_DNN.csv', low_memory=False)\n",
        "df"
      ]
    },
    {
      "cell_type": "code",
      "execution_count": 8,
      "metadata": {
        "colab": {
          "base_uri": "https://localhost:8080/",
          "height": 209
        },
        "id": "HxF0GieLxDFe",
        "outputId": "567d2df9-0796-4f01-949d-13a5f41d57dd"
      },
      "outputs": [
        {
          "data": {
            "text/plain": [
              "Attack_type\n",
              "Normal                   24101\n",
              "DDoS_UDP                 14498\n",
              "DDoS_ICMP                13096\n",
              "DDoS_HTTP                10495\n",
              "SQL_injection            10282\n",
              "DDoS_TCP                 10247\n",
              "Uploading                10214\n",
              "Vulnerability_scanner    10062\n",
              "Password                  9972\n",
              "Backdoor                  9865\n",
              "Ransomware                9689\n",
              "XSS                       9543\n",
              "Port_Scanning             8921\n",
              "Fingerprinting             853\n",
              "MITM                       358\n",
              "Name: count, dtype: int64"
            ]
          },
          "execution_count": 8,
          "metadata": {},
          "output_type": "execute_result"
        }
      ],
      "source": [
        "df['Attack_type'].value_counts()"
      ]
    },
    {
      "cell_type": "code",
      "execution_count": 9,
      "metadata": {
        "id": "18mcd2cmxFM-"
      },
      "outputs": [],
      "source": [
        "feat_cols = list(df.columns)\n",
        "label_col = \"Attack_type\"\n",
        "\n",
        "feat_cols.remove(label_col)"
      ]
    },
    {
      "cell_type": "code",
      "execution_count": 10,
      "metadata": {
        "colab": {
          "base_uri": "https://localhost:8080/"
        },
        "id": "DJCHwbvdxO56",
        "outputId": "43a0b14c-7b61-4d9e-f424-98889c3b143f"
      },
      "outputs": [
        {
          "data": {
            "text/plain": [
              "[]"
            ]
          },
          "execution_count": 10,
          "metadata": {},
          "output_type": "execute_result"
        }
      ],
      "source": [
        "empty_cols = [col for col in df.columns if df[col].isnull().all()]\n",
        "empty_cols"
      ]
    },
    {
      "cell_type": "code",
      "execution_count": 11,
      "metadata": {
        "id": "wuwVE0tRxSif"
      },
      "outputs": [],
      "source": [
        "skip_list = [\"icmp.unused\", \"http.tls_port\", \"dns.qry.type\", \"mqtt.msg_decoded_as\"]"
      ]
    },
    {
      "cell_type": "code",
      "execution_count": 12,
      "metadata": {
        "colab": {
          "base_uri": "https://localhost:8080/",
          "height": 146
        },
        "id": "xkd3q6MzxbvX",
        "outputId": "fcfe5089-2ca6-45ac-e692-b041fe77fce9"
      },
      "outputs": [
        {
          "data": {
            "text/plain": [
              "mqtt.msg_decoded_as\n",
              "0    152196\n",
              "Name: count, dtype: int64"
            ]
          },
          "execution_count": 12,
          "metadata": {},
          "output_type": "execute_result"
        }
      ],
      "source": [
        "df[skip_list[3]].value_counts()"
      ]
    },
    {
      "cell_type": "code",
      "execution_count": 13,
      "metadata": {
        "colab": {
          "base_uri": "https://localhost:8080/",
          "height": 598
        },
        "id": "LPGRiUvUxeIs",
        "outputId": "43960898-dc6a-44ca-c8d7-259c105d138f"
      },
      "outputs": [
        {
          "data": {
            "image/png": "[encoded data removed]",
            "text/plain": [
              "<Figure size 1200x800 with 2 Axes>"
            ]
          },
          "metadata": {},
          "output_type": "display_data"
        }
      ],
      "source": [
        "fig, (ax1, ax2)  = plt.subplots(nrows=1, ncols=2, figsize=(12,8))\n",
        "explode = list((np.array(list(df[label_col].dropna().value_counts()))/sum(list(df[label_col].dropna().value_counts())))[::-1])[:]\n",
        "labels = list(df[label_col].dropna().unique())[:]\n",
        "sizes = df[label_col].value_counts()[:]\n",
        "\n",
        "ax2.pie(sizes,  explode=explode, startangle=60, labels=labels, autopct='%1.0f%%', pctdistance=0.8)\n",
        "ax2.add_artist(plt.Circle((0,0),0.4,fc='white'))\n",
        "sns.countplot(y=label_col, data=df, ax=ax1)\n",
        "ax1.set_title(\"Count of each Attack type\")\n",
        "ax2.set_title(\"Percentage of each Attack type\")\n",
        "plt.show()"
      ]
    },
    {
      "cell_type": "code",
      "execution_count": 14,
      "metadata": {
        "id": "sbkpDUVex0cO"
      },
      "outputs": [],
      "source": [
        "X = df.drop([label_col], axis=1)\n",
        "y = df[label_col]"
      ]
    },
    {
      "cell_type": "code",
      "execution_count": 15,
      "metadata": {
        "id": "h6dSY46Rx3Qf"
      },
      "outputs": [],
      "source": [
        "from sklearn.model_selection import train_test_split\n",
        "\n",
        "X_train, X_test, y_train, y_test = train_test_split(X, y, test_size=0.2, random_state=1, stratify=y)\n",
        "\n",
        "del X\n",
        "del y"
      ]
    },
    {
      "cell_type": "code",
      "execution_count": 16,
      "metadata": {
        "id": "wRdPppbYx65M"
      },
      "outputs": [],
      "source": [
        "from sklearn.preprocessing import LabelEncoder\n",
        "\n",
        "\n",
        "label_encoder = LabelEncoder()\n",
        "y_train =  label_encoder.fit_transform(y_train)\n",
        "y_test = label_encoder.transform(y_test)"
      ]
    },
    {
      "cell_type": "code",
      "execution_count": 17,
      "metadata": {
        "id": "817PEoHqx9r0"
      },
      "outputs": [],
      "source": [
        "from sklearn.preprocessing import MinMaxScaler\n",
        "\n",
        "min_max_scaler = MinMaxScaler()\n",
        "X_train =  min_max_scaler.fit_transform(X_train)\n",
        "X_test = min_max_scaler.transform(X_test)"
      ]
    },
    {
      "cell_type": "code",
      "execution_count": 18,
      "metadata": {
        "id": "bqtH-fkZyEq5"
      },
      "outputs": [],
      "source": [
        "X_train = X_train.reshape(X_train.shape[0], X_train.shape[1], 1)\n",
        "X_test = X_test.reshape(X_test.shape[0], X_test.shape[1], 1)"
      ]
    },
    {
      "cell_type": "code",
      "execution_count": 19,
      "metadata": {
        "colab": {
          "base_uri": "https://localhost:8080/"
        },
        "id": "KCP6KxN5yHAF",
        "outputId": "83f62dfc-f634-4d7e-ce89-d964c439be1c"
      },
      "outputs": [
        {
          "name": "stdout",
          "output_type": "stream",
          "text": [
            "(121756, 68, 1)\n",
            "(30440, 68, 1)\n"
          ]
        }
      ],
      "source": [
        "print(X_train.shape)\n",
        "print(X_test.shape)"
      ]
    },
    {
      "cell_type": "code",
      "execution_count": 20,
      "metadata": {
        "id": "LT_OP50zyRUg"
      },
      "outputs": [],
      "source": [
        "input_shape = X_train.shape[1:]"
      ]
    },
    {
      "cell_type": "code",
      "execution_count": 21,
      "metadata": {
        "colab": {
          "base_uri": "https://localhost:8080/"
        },
        "id": "bhLGxILdyXhl",
        "outputId": "d12ed741-65d2-4c0e-b512-18a63484dd88"
      },
      "outputs": [
        {
          "name": "stdout",
          "output_type": "stream",
          "text": [
            "(121756, 68, 1) (30440, 68, 1)\n",
            "(68, 1)\n"
          ]
        }
      ],
      "source": [
        "print(X_train.shape, X_test.shape)\n",
        "print(input_shape)"
      ]
    },
    {
      "cell_type": "code",
      "execution_count": 22,
      "metadata": {
        "colab": {
          "base_uri": "https://localhost:8080/"
        },
        "id": "pcu0TJAKykik",
        "outputId": "7e860bb6-4297-411d-a554-4e1cfb4dd553"
      },
      "outputs": [
        {
          "data": {
            "text/plain": [
              "15"
            ]
          },
          "execution_count": 22,
          "metadata": {},
          "output_type": "execute_result"
        }
      ],
      "source": [
        "num_classes = len(np.unique(y_train))\n",
        "num_classes"
      ]
    },
    {
      "cell_type": "code",
      "execution_count": 23,
      "metadata": {
        "id": "Hdx__HZcyeIx"
      },
      "outputs": [
        {
          "name": "stderr",
          "output_type": "stream",
          "text": [
            "2025-07-04 13:57:13.604775: I tensorflow/core/util/port.cc:113] oneDNN custom operations are on. You may see slightly different numerical results due to floating-point round-off errors from different computation orders. To turn them off, set the environment variable `TF_ENABLE_ONEDNN_OPTS=0`.\n",
            "2025-07-04 13:57:13.606152: I external/local_tsl/tsl/cuda/cudart_stub.cc:31] Could not find cuda drivers on your machine, GPU will not be used.\n",
            "2025-07-04 13:57:13.622628: E external/local_xla/xla/stream_executor/cuda/cuda_dnn.cc:9261] Unable to register cuDNN factory: Attempting to register factory for plugin cuDNN when one has already been registered\n",
            "2025-07-04 13:57:13.622653: E external/local_xla/xla/stream_executor/cuda/cuda_fft.cc:607] Unable to register cuFFT factory: Attempting to register factory for plugin cuFFT when one has already been registered\n",
            "2025-07-04 13:57:13.623185: E external/local_xla/xla/stream_executor/cuda/cuda_blas.cc:1515] Unable to register cuBLAS factory: Attempting to register factory for plugin cuBLAS when one has already been registered\n",
            "2025-07-04 13:57:13.626190: I external/local_tsl/tsl/cuda/cudart_stub.cc:31] Could not find cuda drivers on your machine, GPU will not be used.\n",
            "2025-07-04 13:57:13.626780: I tensorflow/core/platform/cpu_feature_guard.cc:182] This TensorFlow binary is optimized to use available CPU instructions in performance-critical operations.\n",
            "To enable the following instructions: AVX2 AVX_VNNI FMA, in other operations, rebuild TensorFlow with the appropriate compiler flags.\n",
            "2025-07-04 13:57:14.125540: W tensorflow/compiler/tf2tensorrt/utils/py_utils.cc:38] TF-TRT Warning: Could not find TensorRT\n"
          ]
        }
      ],
      "source": [
        "from  tensorflow.keras.utils import to_categorical\n",
        "\n",
        "y_train = to_categorical(y_train, num_classes=num_classes)\n",
        "y_test = to_categorical(y_test, num_classes=num_classes)"
      ]
    },
    {
      "cell_type": "code",
      "execution_count": 24,
      "metadata": {
        "colab": {
          "base_uri": "https://localhost:8080/"
        },
        "id": "jwovWWWCyoQ0",
        "outputId": "78683ba2-7e55-4853-8076-ce9c25746673"
      },
      "outputs": [
        {
          "name": "stdout",
          "output_type": "stream",
          "text": [
            "(121756, 15) (30440, 15)\n"
          ]
        }
      ],
      "source": [
        "print(y_train.shape, y_test.shape)"
      ]
    },
    {
      "cell_type": "markdown",
      "metadata": {
        "id": "j23wbSbGyXnl"
      },
      "source": []
    },
    {
      "cell_type": "code",
      "execution_count": 25,
      "metadata": {
        "colab": {
          "base_uri": "https://localhost:8080/",
          "height": 490
        },
        "id": "jWUzqBvYzXJT",
        "outputId": "3fe7c08d-ef39-4958-e77b-a24ef5c04095"
      },
      "outputs": [
        {
          "name": "stdout",
          "output_type": "stream",
          "text": [
            "Model: \"sequential\"\n",
            "_________________________________________________________________\n",
            " Layer (type)                Output Shape              Param #   \n",
            "=================================================================\n",
            " conv1d (Conv1D)             (None, 66, 32)            128       \n",
            "                                                                 \n",
            " max_pooling1d (MaxPooling1  (None, 33, 32)            0         \n",
            " D)                                                              \n",
            "                                                                 \n",
            " conv1d_1 (Conv1D)           (None, 31, 64)            6208      \n",
            "                                                                 \n",
            " max_pooling1d_1 (MaxPoolin  (None, 15, 64)            0         \n",
            " g1D)                                                            \n",
            "                                                                 \n",
            " conv1d_2 (Conv1D)           (None, 13, 128)           24704     \n",
            "                                                                 \n",
            " max_pooling1d_2 (MaxPoolin  (None, 6, 128)            0         \n",
            " g1D)                                                            \n",
            "                                                                 \n",
            " flatten (Flatten)           (None, 768)               0         \n",
            "                                                                 \n",
            " dense (Dense)               (None, 64)                49216     \n",
            "                                                                 \n",
            " dense_1 (Dense)             (None, 15)                975       \n",
            "                                                                 \n",
            "=================================================================\n",
            "Total params: 81231 (317.31 KB)\n",
            "Trainable params: 81231 (317.31 KB)\n",
            "Non-trainable params: 0 (0.00 Byte)\n",
            "_________________________________________________________________\n"
          ]
        }
      ],
      "source": [
        "from tensorflow.keras.models import Sequential\n",
        "from tensorflow.keras.layers import Conv1D, MaxPooling1D, Flatten, Dense\n",
        "\n",
        "model = Sequential()\n",
        "model.add(Conv1D(32, 3, activation='relu', input_shape=(input_shape[0], 1)))\n",
        "model.add(MaxPooling1D(2))\n",
        "# model.add(Conv1D(64, 3, activation='relu', input_shape=(input_shape)))\n",
        "# model.add(MaxPooling1D(2))\n",
        "# model.add(Conv1D(64, 3, activation='relu', input_shape=(input_shape)))\n",
        "# model.add(MaxPooling1D(2))\n",
        "model.add(Conv1D(64, 3, activation='relu'))\n",
        "model.add(MaxPooling1D(2))\n",
        "model.add(Conv1D(128, 3, activation='relu'))\n",
        "model.add(MaxPooling1D(2))\n",
        "model.add(Flatten())\n",
        "model.add(Dense(64, activation='relu'))\n",
        "model.add(Dense(num_classes, activation='softmax'))\n",
        "\n",
        "model.summary()"
      ]
    },
    {
      "cell_type": "code",
      "execution_count": 26,
      "metadata": {
        "id": "p9vt50rDzdrl"
      },
      "outputs": [],
      "source": [
        "from tensorflow.keras.datasets import mnist\n",
        "from tensorflow.keras.utils import to_categorical\n",
        "from tensorflow.keras.models import Sequential\n",
        "from tensorflow.keras.layers import Conv1D, Input, ZeroPadding1D\n",
        "from tensorflow.keras.layers import MaxPooling1D, Add, AveragePooling1D\n",
        "from tensorflow.keras.layers import Dense, BatchNormalization, Activation\n",
        "from tensorflow.keras.layers import Flatten\n",
        "from tensorflow.keras.models import Model\n",
        "from keras.initializers import glorot_uniform\n",
        "import keras.backend as K\n",
        "import tensorflow as tf\n",
        "from tensorflow.keras.optimizers import Adam#input the model before this cell\n",
        "#model = build_model(num_classes, input_shape=input_shape)\n",
        "opt = Adam(learning_rate=0.001)\n",
        "model.compile(optimizer=opt, loss= tf.keras.metrics.categorical_crossentropy,\n",
        "                  metrics=['accuracy'])"
      ]
    },
    {
      "cell_type": "code",
      "execution_count": 27,
      "metadata": {
        "colab": {
          "base_uri": "https://localhost:8080/"
        },
        "id": "S7xJU-Y8ztOS",
        "outputId": "57ce618c-6c39-4584-abae-66a94e4cf60f"
      },
      "outputs": [
        {
          "name": "stdout",
          "output_type": "stream",
          "text": [
            "Epoch 1/15\n",
            "476/476 [==============================] - 3s 4ms/step - loss: 1.2057 - accuracy: 0.5430 - val_loss: 0.9985 - val_accuracy: 0.5989 - lr: 0.0010\n",
            "Epoch 2/15\n",
            "476/476 [==============================] - 2s 4ms/step - loss: 0.9702 - accuracy: 0.6009 - val_loss: 0.9493 - val_accuracy: 0.5989 - lr: 0.0010\n",
            "Epoch 3/15\n",
            "476/476 [==============================] - 2s 4ms/step - loss: 0.9311 - accuracy: 0.6117 - val_loss: 0.9091 - val_accuracy: 0.6331 - lr: 0.0010\n",
            "Epoch 4/15\n",
            "476/476 [==============================] - 2s 4ms/step - loss: 0.9036 - accuracy: 0.6325 - val_loss: 0.8962 - val_accuracy: 0.6141 - lr: 0.0010\n",
            "Epoch 5/15\n",
            "476/476 [==============================] - 2s 4ms/step - loss: 0.8723 - accuracy: 0.6555 - val_loss: 0.8721 - val_accuracy: 0.6671 - lr: 0.0010\n",
            "Epoch 6/15\n",
            "476/476 [==============================] - 2s 4ms/step - loss: 0.8493 - accuracy: 0.6604 - val_loss: 0.8413 - val_accuracy: 0.6635 - lr: 0.0010\n",
            "Epoch 7/15\n",
            "476/476 [==============================] - 2s 4ms/step - loss: 0.8299 - accuracy: 0.6660 - val_loss: 0.8295 - val_accuracy: 0.6712 - lr: 0.0010\n",
            "Epoch 8/15\n",
            "476/476 [==============================] - 2s 4ms/step - loss: 0.8190 - accuracy: 0.6683 - val_loss: 0.8262 - val_accuracy: 0.6628 - lr: 0.0010\n",
            "Epoch 9/15\n",
            "476/476 [==============================] - 2s 4ms/step - loss: 0.8068 - accuracy: 0.6722 - val_loss: 0.8079 - val_accuracy: 0.6635 - lr: 0.0010\n",
            "Epoch 10/15\n",
            "476/476 [==============================] - 2s 4ms/step - loss: 0.7949 - accuracy: 0.6757 - val_loss: 0.7884 - val_accuracy: 0.6800 - lr: 0.0010\n",
            "Epoch 11/15\n",
            "476/476 [==============================] - 2s 4ms/step - loss: 0.7826 - accuracy: 0.6786 - val_loss: 0.7746 - val_accuracy: 0.6847 - lr: 0.0010\n",
            "Epoch 12/15\n",
            "476/476 [==============================] - 2s 4ms/step - loss: 0.7686 - accuracy: 0.6812 - val_loss: 0.7650 - val_accuracy: 0.6780 - lr: 0.0010\n",
            "Epoch 13/15\n",
            "476/476 [==============================] - 2s 4ms/step - loss: 0.7526 - accuracy: 0.6857 - val_loss: 0.7486 - val_accuracy: 0.6866 - lr: 0.0010\n",
            "Epoch 14/15\n",
            "476/476 [==============================] - 2s 4ms/step - loss: 0.7435 - accuracy: 0.6881 - val_loss: 0.7416 - val_accuracy: 0.6946 - lr: 0.0010\n",
            "Epoch 15/15\n",
            "476/476 [==============================] - 2s 4ms/step - loss: 0.7393 - accuracy: 0.6894 - val_loss: 0.7385 - val_accuracy: 0.6931 - lr: 0.0010\n"
          ]
        }
      ],
      "source": [
        "from keras.callbacks import ModelCheckpoint, EarlyStopping, ReduceLROnPlateau\n",
        "#from livelossplot import PlotLossesKeras\n",
        "\n",
        "\n",
        "#model_weights_file_path = \"model_best_weights.h5\"\n",
        "#checkpoint = ModelCheckpoint(filepath=model_weights_file_path, monitor=\"val_loss\", verbose=1, save_best_only=True, mode=\"min\", save_weights_only=True)\n",
        "#checkpoint = ModelCheckpoint(filepath=model_weights_file_path, monitor=\"val_loss\", verbose=1, save_best_only=True, mode=\"min\", save_weights_only=True)\n",
        "early_stopping = EarlyStopping(monitor=\"val_loss\", mode=\"min\", verbose=1, patience=10)\n",
        "lr_reduce = ReduceLROnPlateau(monitor='val_loss', factor=0.5, patience=5, mode=\"min\", verbose=1, min_lr=0)\n",
        "#plotlosses = PlotLossesKeras()\n",
        "call_backs = [ early_stopping, lr_reduce]\n",
        "EPOCHS = 15\n",
        "BATCH_SIZE = 256\n",
        "call_backs = [early_stopping, lr_reduce]\n",
        "history = model.fit(X_train, y_train,\n",
        "                    validation_data=(X_test, y_test),\n",
        "                    validation_split=0.1,\n",
        "                    epochs=EPOCHS,\n",
        "                    batch_size=BATCH_SIZE,\n",
        "                    callbacks=call_backs,\n",
        "                    #class_weight=class_weights,\n",
        "                    verbose=1)\n"
      ]
    },
    {
      "cell_type": "code",
      "execution_count": 28,
      "metadata": {
        "id": "HdG7GDTSWcjH"
      },
      "outputs": [],
      "source": [
        "import tensorflow as tf\n",
        "\n",
        "# Assume your model is compiled and trained\n",
        "\n",
        "@tf.function\n",
        "def fgsm_attack(model, x, y, epsilon):\n",
        "    with tf.GradientTape() as tape:\n",
        "        tape.watch(x)\n",
        "        prediction = model(x)\n",
        "        loss = tf.keras.losses.categorical_crossentropy(y, prediction)\n",
        "    gradient = tape.gradient(loss, x)\n",
        "    perturbation = epsilon * tf.sign(gradient)\n",
        "    x_adv = x + perturbation\n",
        "    return tf.clip_by_value(x_adv, 0, 1)  # or your input range"
      ]
    },
    {
      "cell_type": "code",
      "execution_count": 29,
      "metadata": {
        "id": "xuoqXp2iWfNH"
      },
      "outputs": [],
      "source": [
        "def pgd_attack(model, x, y, epsilon, alpha, num_iter):\n",
        "    x_adv = tf.identity(x)\n",
        "    for i in range(num_iter):\n",
        "        with tf.GradientTape() as tape:\n",
        "            tape.watch(x_adv)\n",
        "            prediction = model(x_adv)\n",
        "            loss = tf.keras.losses.categorical_crossentropy(y, prediction)\n",
        "        gradient = tape.gradient(loss, x_adv)\n",
        "        x_adv = x_adv + alpha * tf.sign(gradient)\n",
        "\n",
        "        # Project back to epsilon-ball\n",
        "        x_adv = tf.clip_by_value(x_adv, x - epsilon, x + epsilon)\n",
        "        x_adv = tf.clip_by_value(x_adv, 0, 1)\n",
        "    return x_adv"
      ]
    },
    {
      "cell_type": "code",
      "execution_count": 30,
      "metadata": {
        "id": "mO-FYugvWpM7"
      },
      "outputs": [],
      "source": [
        "import numpy as np\n",
        "\n",
        "# 30% indices\n",
        "num_poison = int(0.3 * len(X_train))\n",
        "idx = np.random.choice(len(X_train), size=num_poison, replace=False)\n",
        "\n",
        "X_poison = fgsm_attack(model, X_train[idx], y_train[idx], epsilon=0.1)\n",
        "\n",
        "# Replace clean with poisoned\n",
        "X_train_poisoned = np.copy(X_train)\n",
        "X_train_poisoned[idx] = X_poison"
      ]
    },
    {
      "cell_type": "code",
      "execution_count": 31,
      "metadata": {
        "colab": {
          "base_uri": "https://localhost:8080/"
        },
        "id": "qoxIbBL4W1PX",
        "outputId": "fe8da56b-8cfd-4b6f-d189-fba1daf0fb7e"
      },
      "outputs": [
        {
          "name": "stdout",
          "output_type": "stream",
          "text": [
            "Epoch 1/15\n",
            "476/476 [==============================] - 2s 4ms/step - loss: 0.6576 - accuracy: 0.7422 - val_loss: 0.7360 - val_accuracy: 0.6898 - lr: 0.0010\n",
            "Epoch 2/15\n",
            "476/476 [==============================] - 2s 5ms/step - loss: 0.5420 - accuracy: 0.7759 - val_loss: 0.7377 - val_accuracy: 0.6929 - lr: 0.0010\n",
            "Epoch 3/15\n",
            "476/476 [==============================] - 2s 4ms/step - loss: 0.5278 - accuracy: 0.7800 - val_loss: 0.7250 - val_accuracy: 0.6850 - lr: 0.0010\n",
            "Epoch 4/15\n",
            "476/476 [==============================] - 2s 4ms/step - loss: 0.5215 - accuracy: 0.7824 - val_loss: 0.7296 - val_accuracy: 0.6926 - lr: 0.0010\n",
            "Epoch 5/15\n",
            "476/476 [==============================] - 2s 4ms/step - loss: 0.5165 - accuracy: 0.7837 - val_loss: 0.7186 - val_accuracy: 0.6959 - lr: 0.0010\n",
            "Epoch 6/15\n",
            "476/476 [==============================] - 2s 4ms/step - loss: 0.5128 - accuracy: 0.7849 - val_loss: 0.7182 - val_accuracy: 0.6933 - lr: 0.0010\n",
            "Epoch 7/15\n",
            "476/476 [==============================] - 2s 4ms/step - loss: 0.5107 - accuracy: 0.7844 - val_loss: 0.7206 - val_accuracy: 0.6887 - lr: 0.0010\n",
            "Epoch 8/15\n",
            "476/476 [==============================] - 2s 4ms/step - loss: 0.5080 - accuracy: 0.7861 - val_loss: 0.7229 - val_accuracy: 0.6962 - lr: 0.0010\n",
            "Epoch 9/15\n",
            "476/476 [==============================] - 2s 5ms/step - loss: 0.5059 - accuracy: 0.7870 - val_loss: 0.7072 - val_accuracy: 0.7006 - lr: 0.0010\n",
            "Epoch 10/15\n",
            "476/476 [==============================] - 2s 5ms/step - loss: 0.5054 - accuracy: 0.7873 - val_loss: 0.7120 - val_accuracy: 0.6907 - lr: 0.0010\n",
            "Epoch 11/15\n",
            "476/476 [==============================] - 2s 5ms/step - loss: 0.5019 - accuracy: 0.7887 - val_loss: 0.7111 - val_accuracy: 0.7007 - lr: 0.0010\n",
            "Epoch 12/15\n",
            "476/476 [==============================] - 2s 5ms/step - loss: 0.5006 - accuracy: 0.7876 - val_loss: 0.7153 - val_accuracy: 0.6978 - lr: 0.0010\n",
            "Epoch 13/15\n",
            "476/476 [==============================] - 2s 5ms/step - loss: 0.5004 - accuracy: 0.7892 - val_loss: 0.7093 - val_accuracy: 0.7052 - lr: 0.0010\n",
            "Epoch 14/15\n",
            "474/476 [============================>.] - ETA: 0s - loss: 0.4984 - accuracy: 0.7896\n",
            "Epoch 14: ReduceLROnPlateau reducing learning rate to 0.0005000000237487257.\n",
            "476/476 [==============================] - 2s 5ms/step - loss: 0.4983 - accuracy: 0.7896 - val_loss: 0.7110 - val_accuracy: 0.6896 - lr: 0.0010\n",
            "Epoch 15/15\n",
            "476/476 [==============================] - 2s 5ms/step - loss: 0.4869 - accuracy: 0.7923 - val_loss: 0.6967 - val_accuracy: 0.7030 - lr: 5.0000e-04\n"
          ]
        }
      ],
      "source": [
        "from keras.callbacks import ModelCheckpoint, EarlyStopping, ReduceLROnPlateau\n",
        "#from livelossplot import PlotLossesKeras\n",
        "\n",
        "\n",
        "#model_weights_file_path = \"model_best_weights.h5\"\n",
        "#checkpoint = ModelCheckpoint(filepath=model_weights_file_path, monitor=\"val_loss\", verbose=1, save_best_only=True, mode=\"min\", save_weights_only=True)\n",
        "#checkpoint = ModelCheckpoint(filepath=model_weights_file_path, monitor=\"val_loss\", verbose=1, save_best_only=True, mode=\"min\", save_weights_only=True)\n",
        "early_stopping = EarlyStopping(monitor=\"val_loss\", mode=\"min\", verbose=1, patience=10)\n",
        "lr_reduce = ReduceLROnPlateau(monitor='val_loss', factor=0.5, patience=5, mode=\"min\", verbose=1, min_lr=0)\n",
        "#plotlosses = PlotLossesKeras()\n",
        "call_backs = [ early_stopping, lr_reduce]\n",
        "EPOCHS = 15\n",
        "BATCH_SIZE = 256\n",
        "call_backs = [early_stopping, lr_reduce]\n",
        "history = model.fit(X_train_poisoned, y_train,\n",
        "                    validation_data=(X_test, y_test),\n",
        "                    validation_split=0.1,\n",
        "                    epochs=EPOCHS,\n",
        "                    batch_size=BATCH_SIZE,\n",
        "                    callbacks=call_backs,\n",
        "                    #class_weight=class_weights,\n",
        "                    verbose=1)"
      ]
    },
    {
      "cell_type": "markdown",
      "metadata": {
        "id": "PkCNsck4WfSp"
      },
      "source": []
    },
    {
      "cell_type": "markdown",
      "metadata": {
        "id": "-nJ5KOp_Wco5"
      },
      "source": []
    }
  ],
  "metadata": {
    "colab": {
      "provenance": []
    },
    "kernelspec": {
      "display_name": "base",
      "language": "python",
      "name": "python3"
    },
    "language_info": {
      "codemirror_mode": {
        "name": "ipython",
        "version": 3
      },
      "file_extension": ".py",
      "mimetype": "text/x-python",
      "name": "python",
      "nbconvert_exporter": "python",
      "pygments_lexer": "ipython3",
      "version": "3.11.5"
    }
  },
  "nbformat": 4,
  "nbformat_minor": 0
}
